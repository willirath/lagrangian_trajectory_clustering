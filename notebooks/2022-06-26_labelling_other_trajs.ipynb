{
 "cells": [
  {
   "cell_type": "code",
   "execution_count": 1,
   "id": "23d3b2ef-cb1d-4640-a574-a887c2ff88d7",
   "metadata": {},
   "outputs": [],
   "source": [
    "import pandas as pd"
   ]
  },
  {
   "cell_type": "code",
   "execution_count": 2,
   "id": "b015b59a-a0fe-436f-bdee-dc805cf99525",
   "metadata": {},
   "outputs": [],
   "source": [
    "year = 2017"
   ]
  },
  {
   "cell_type": "code",
   "execution_count": 3,
   "id": "c6d37636-05e8-4cfc-a4f5-c59da56114f4",
   "metadata": {},
   "outputs": [
    {
     "data": {
      "text/html": [
       "<div>\n",
       "<style scoped>\n",
       "    .dataframe tbody tr th:only-of-type {\n",
       "        vertical-align: middle;\n",
       "    }\n",
       "\n",
       "    .dataframe tbody tr th {\n",
       "        vertical-align: top;\n",
       "    }\n",
       "\n",
       "    .dataframe thead th {\n",
       "        text-align: right;\n",
       "    }\n",
       "</style>\n",
       "<table border=\"1\" class=\"dataframe\">\n",
       "  <thead>\n",
       "    <tr style=\"text-align: right;\">\n",
       "      <th></th>\n",
       "      <th>traj</th>\n",
       "      <th>obs</th>\n",
       "      <th>old_traj</th>\n",
       "      <th>longitude</th>\n",
       "      <th>latitude</th>\n",
       "      <th>cluster_id</th>\n",
       "    </tr>\n",
       "  </thead>\n",
       "  <tbody>\n",
       "    <tr>\n",
       "      <th>0</th>\n",
       "      <td>0</td>\n",
       "      <td>0</td>\n",
       "      <td>8</td>\n",
       "      <td>-22.691607</td>\n",
       "      <td>16.029816</td>\n",
       "      <td>-1</td>\n",
       "    </tr>\n",
       "    <tr>\n",
       "      <th>1</th>\n",
       "      <td>0</td>\n",
       "      <td>1</td>\n",
       "      <td>8</td>\n",
       "      <td>-22.685192</td>\n",
       "      <td>15.991036</td>\n",
       "      <td>-1</td>\n",
       "    </tr>\n",
       "    <tr>\n",
       "      <th>2</th>\n",
       "      <td>0</td>\n",
       "      <td>2</td>\n",
       "      <td>8</td>\n",
       "      <td>-22.683147</td>\n",
       "      <td>15.967465</td>\n",
       "      <td>-1</td>\n",
       "    </tr>\n",
       "    <tr>\n",
       "      <th>3</th>\n",
       "      <td>0</td>\n",
       "      <td>3</td>\n",
       "      <td>8</td>\n",
       "      <td>-22.692963</td>\n",
       "      <td>15.966416</td>\n",
       "      <td>-1</td>\n",
       "    </tr>\n",
       "    <tr>\n",
       "      <th>4</th>\n",
       "      <td>0</td>\n",
       "      <td>4</td>\n",
       "      <td>8</td>\n",
       "      <td>-22.705220</td>\n",
       "      <td>15.973639</td>\n",
       "      <td>-1</td>\n",
       "    </tr>\n",
       "    <tr>\n",
       "      <th>...</th>\n",
       "      <td>...</td>\n",
       "      <td>...</td>\n",
       "      <td>...</td>\n",
       "      <td>...</td>\n",
       "      <td>...</td>\n",
       "      <td>...</td>\n",
       "    </tr>\n",
       "    <tr>\n",
       "      <th>292056</th>\n",
       "      <td>999</td>\n",
       "      <td>253</td>\n",
       "      <td>9964</td>\n",
       "      <td>-49.320366</td>\n",
       "      <td>10.847726</td>\n",
       "      <td>0</td>\n",
       "    </tr>\n",
       "    <tr>\n",
       "      <th>292057</th>\n",
       "      <td>999</td>\n",
       "      <td>254</td>\n",
       "      <td>9964</td>\n",
       "      <td>-49.505756</td>\n",
       "      <td>10.759947</td>\n",
       "      <td>0</td>\n",
       "    </tr>\n",
       "    <tr>\n",
       "      <th>292058</th>\n",
       "      <td>999</td>\n",
       "      <td>255</td>\n",
       "      <td>9964</td>\n",
       "      <td>-49.673706</td>\n",
       "      <td>10.700109</td>\n",
       "      <td>0</td>\n",
       "    </tr>\n",
       "    <tr>\n",
       "      <th>292059</th>\n",
       "      <td>999</td>\n",
       "      <td>256</td>\n",
       "      <td>9964</td>\n",
       "      <td>-49.828434</td>\n",
       "      <td>10.668164</td>\n",
       "      <td>0</td>\n",
       "    </tr>\n",
       "    <tr>\n",
       "      <th>292060</th>\n",
       "      <td>999</td>\n",
       "      <td>257</td>\n",
       "      <td>9964</td>\n",
       "      <td>-49.828434</td>\n",
       "      <td>10.668164</td>\n",
       "      <td>0</td>\n",
       "    </tr>\n",
       "  </tbody>\n",
       "</table>\n",
       "<p>292061 rows × 6 columns</p>\n",
       "</div>"
      ],
      "text/plain": [
       "        traj  obs  old_traj  longitude   latitude  cluster_id\n",
       "0          0    0         8 -22.691607  16.029816          -1\n",
       "1          0    1         8 -22.685192  15.991036          -1\n",
       "2          0    2         8 -22.683147  15.967465          -1\n",
       "3          0    3         8 -22.692963  15.966416          -1\n",
       "4          0    4         8 -22.705220  15.973639          -1\n",
       "...      ...  ...       ...        ...        ...         ...\n",
       "292056   999  253      9964 -49.320366  10.847726           0\n",
       "292057   999  254      9964 -49.505756  10.759947           0\n",
       "292058   999  255      9964 -49.673706  10.700109           0\n",
       "292059   999  256      9964 -49.828434  10.668164           0\n",
       "292060   999  257      9964 -49.828434  10.668164           0\n",
       "\n",
       "[292061 rows x 6 columns]"
      ]
     },
     "execution_count": 3,
     "metadata": {},
     "output_type": "execute_result"
    }
   ],
   "source": [
    "clustered = pd.read_csv(\"clustered_data.csv\")\n",
    "clustered"
   ]
  },
  {
   "cell_type": "code",
   "execution_count": 4,
   "id": "14355f56-a6b9-4825-b0ef-9610ae466372",
   "metadata": {},
   "outputs": [],
   "source": [
    "from lagrangian_trajectory_clustering.trafo.sequence import (\n",
    "    fill_in_segments,\n",
    "    multi_index_series_to_series_sequences,\n",
    "    remove_subsequent_identical_elements,\n",
    ")\n",
    "from lagrangian_trajectory_clustering.trafo.grid import (\n",
    "    geo_df_to_grid_series, \n",
    "    grid_series_to_geo_df,\n",
    ")"
   ]
  },
  {
   "cell_type": "code",
   "execution_count": 5,
   "id": "1ea0687c-3501-4b83-bd37-146bee3249c3",
   "metadata": {},
   "outputs": [],
   "source": [
    "lat_lon_res = 7"
   ]
  },
  {
   "cell_type": "code",
   "execution_count": 6,
   "id": "293e90de-83a5-4868-9b57-cf31a8fc4156",
   "metadata": {},
   "outputs": [
    {
     "name": "stdout",
     "output_type": "stream",
     "text": [
      "58 93\n"
     ]
    }
   ],
   "source": [
    "lat_num = int(180 // (abs(clustered.latitude.max() - clustered.latitude.min()) / lat_lon_res) + 1)\n",
    "lon_num = int(360 // (abs(clustered.longitude.max() - clustered.longitude.min()) / lat_lon_res) + 1)\n",
    "print(lon_num, lat_num)"
   ]
  },
  {
   "cell_type": "code",
   "execution_count": 7,
   "id": "bde28c37-6fa2-446b-b2b6-58af5d327168",
   "metadata": {},
   "outputs": [
    {
     "data": {
      "text/plain": [
       "traj\n",
       "0     -1\n",
       "0     -1\n",
       "0     -1\n",
       "0     -1\n",
       "0     -1\n",
       "      ..\n",
       "999    0\n",
       "999    0\n",
       "999    0\n",
       "999    0\n",
       "999    0\n",
       "Name: cluster_id, Length: 292061, dtype: int64"
      ]
     },
     "execution_count": 7,
     "metadata": {},
     "output_type": "execute_result"
    }
   ],
   "source": [
    "clustered.set_index(clustered.traj).cluster_id"
   ]
  },
  {
   "cell_type": "code",
   "execution_count": 8,
   "id": "865fc054-17b9-48c6-946d-7ba99f69c414",
   "metadata": {},
   "outputs": [
    {
     "data": {
      "text/html": [
       "<div>\n",
       "<style scoped>\n",
       "    .dataframe tbody tr th:only-of-type {\n",
       "        vertical-align: middle;\n",
       "    }\n",
       "\n",
       "    .dataframe tbody tr th {\n",
       "        vertical-align: top;\n",
       "    }\n",
       "\n",
       "    .dataframe thead th {\n",
       "        text-align: right;\n",
       "    }\n",
       "</style>\n",
       "<table border=\"1\" class=\"dataframe\">\n",
       "  <thead>\n",
       "    <tr style=\"text-align: right;\">\n",
       "      <th></th>\n",
       "      <th>grid_index_lon_lat</th>\n",
       "      <th>cluster_id</th>\n",
       "    </tr>\n",
       "    <tr>\n",
       "      <th>traj</th>\n",
       "      <th></th>\n",
       "      <th></th>\n",
       "    </tr>\n",
       "  </thead>\n",
       "  <tbody>\n",
       "    <tr>\n",
       "      <th>0</th>\n",
       "      <td>[(53, 54), (53, 53), (52, 53), (51, 53), (51, ...</td>\n",
       "      <td>-1</td>\n",
       "    </tr>\n",
       "    <tr>\n",
       "      <th>1</th>\n",
       "      <td>[(53, 54), (53, 53), (52, 53), (52, 54), (51, ...</td>\n",
       "      <td>-1</td>\n",
       "    </tr>\n",
       "    <tr>\n",
       "      <th>2</th>\n",
       "      <td>[(53, 54), (53, 53), (52, 53), (51, 53), (51, ...</td>\n",
       "      <td>-1</td>\n",
       "    </tr>\n",
       "    <tr>\n",
       "      <th>3</th>\n",
       "      <td>[(53, 54), (53, 53), (52, 53), (51, 53), (51, ...</td>\n",
       "      <td>-1</td>\n",
       "    </tr>\n",
       "    <tr>\n",
       "      <th>4</th>\n",
       "      <td>[(53, 54), (53, 53), (52, 53), (52, 52), (52, ...</td>\n",
       "      <td>0</td>\n",
       "    </tr>\n",
       "    <tr>\n",
       "      <th>...</th>\n",
       "      <td>...</td>\n",
       "      <td>...</td>\n",
       "    </tr>\n",
       "    <tr>\n",
       "      <th>995</th>\n",
       "      <td>[(53, 54), (53, 53), (52, 53), (51, 53), (51, ...</td>\n",
       "      <td>0</td>\n",
       "    </tr>\n",
       "    <tr>\n",
       "      <th>996</th>\n",
       "      <td>[(53, 54), (53, 53), (52, 53), (51, 53), (51, ...</td>\n",
       "      <td>0</td>\n",
       "    </tr>\n",
       "    <tr>\n",
       "      <th>997</th>\n",
       "      <td>[(53, 54), (53, 53), (52, 53), (51, 53), (51, ...</td>\n",
       "      <td>0</td>\n",
       "    </tr>\n",
       "    <tr>\n",
       "      <th>998</th>\n",
       "      <td>[(53, 54), (53, 53), (52, 53), (51, 53), (51, ...</td>\n",
       "      <td>0</td>\n",
       "    </tr>\n",
       "    <tr>\n",
       "      <th>999</th>\n",
       "      <td>[(53, 54), (53, 53), (52, 53), (51, 53), (51, ...</td>\n",
       "      <td>0</td>\n",
       "    </tr>\n",
       "  </tbody>\n",
       "</table>\n",
       "<p>1000 rows × 2 columns</p>\n",
       "</div>"
      ],
      "text/plain": [
       "                                     grid_index_lon_lat  cluster_id\n",
       "traj                                                               \n",
       "0     [(53, 54), (53, 53), (52, 53), (51, 53), (51, ...          -1\n",
       "1     [(53, 54), (53, 53), (52, 53), (52, 54), (51, ...          -1\n",
       "2     [(53, 54), (53, 53), (52, 53), (51, 53), (51, ...          -1\n",
       "3     [(53, 54), (53, 53), (52, 53), (51, 53), (51, ...          -1\n",
       "4     [(53, 54), (53, 53), (52, 53), (52, 52), (52, ...           0\n",
       "...                                                 ...         ...\n",
       "995   [(53, 54), (53, 53), (52, 53), (51, 53), (51, ...           0\n",
       "996   [(53, 54), (53, 53), (52, 53), (51, 53), (51, ...           0\n",
       "997   [(53, 54), (53, 53), (52, 53), (51, 53), (51, ...           0\n",
       "998   [(53, 54), (53, 53), (52, 53), (51, 53), (51, ...           0\n",
       "999   [(53, 54), (53, 53), (52, 53), (51, 53), (51, ...           0\n",
       "\n",
       "[1000 rows x 2 columns]"
      ]
     },
     "metadata": {},
     "output_type": "display_data"
    }
   ],
   "source": [
    "clustered_sequential_data = fill_in_segments(\n",
    "    remove_subsequent_identical_elements(\n",
    "        multi_index_series_to_series_sequences(\n",
    "            geo_df_to_grid_series(\n",
    "                clustered.reset_index().set_index([\"traj\", \"obs\"])[[\"latitude\", \"longitude\"]],\n",
    "                lon_num=lon_num,\n",
    "                lat_num=lat_num,\n",
    "            )\n",
    "        )\n",
    "    )\n",
    ")\n",
    "\n",
    "clustered_sequential_data = (\n",
    "    clustered_sequential_data.to_frame()\n",
    "    .join(clustered[\"cluster_id\"].groupby(clustered.traj).first())\n",
    ")\n",
    "\n",
    "display(clustered_sequential_data)"
   ]
  },
  {
   "cell_type": "code",
   "execution_count": 9,
   "id": "04eb0547-1279-4b5c-9aa7-697ed8741c85",
   "metadata": {},
   "outputs": [
    {
     "data": {
      "text/plain": [
       "traj\n",
       "0      [(53, 54), (53, 53), (52, 53), (51, 53), (51, ...\n",
       "1      [(53, 54), (53, 53), (52, 53), (52, 54), (51, ...\n",
       "2      [(53, 54), (53, 53), (52, 53), (51, 53), (51, ...\n",
       "3      [(53, 54), (53, 53), (52, 53), (51, 53), (51, ...\n",
       "16     [(53, 54), (53, 53), (52, 53), (52, 52), (52, ...\n",
       "199    [(53, 54), (53, 53), (52, 53), (52, 52), (52, ...\n",
       "201    [(53, 54), (53, 53), (52, 53), (52, 52), (52, ...\n",
       "202    [(53, 54), (53, 53), (52, 53), (52, 52), (52, ...\n",
       "203    [(53, 54), (53, 53), (52, 53), (52, 52), (52, ...\n",
       "204    [(53, 54), (53, 53), (52, 53), (52, 52), (52, ...\n",
       "205    [(53, 54), (53, 53), (52, 53), (52, 52), (52, ...\n",
       "207    [(53, 54), (53, 53), (52, 53), (52, 52), (52, ...\n",
       "209    [(53, 54), (53, 53), (52, 53), (52, 52), (52, ...\n",
       "211    [(53, 54), (53, 53), (52, 53), (52, 52), (52, ...\n",
       "213    [(53, 54), (53, 53), (52, 53), (52, 52), (52, ...\n",
       "216    [(53, 54), (53, 53), (52, 53), (52, 52), (52, ...\n",
       "614    [(53, 54), (53, 53), (52, 53), (52, 52), (52, ...\n",
       "637    [(53, 54), (53, 53), (52, 53), (52, 52), (52, ...\n",
       "647    [(53, 54), (53, 53), (52, 53), (52, 52), (52, ...\n",
       "653    [(53, 54), (53, 53), (52, 53), (52, 52), (52, ...\n",
       "656    [(53, 54), (53, 53), (52, 53), (52, 52), (52, ...\n",
       "658    [(53, 54), (53, 53), (52, 53), (52, 52), (52, ...\n",
       "660    [(53, 54), (53, 53), (52, 53), (52, 52), (52, ...\n",
       "661    [(53, 54), (53, 53), (52, 53), (52, 52), (52, ...\n",
       "666    [(53, 54), (53, 53), (52, 53), (52, 52), (52, ...\n",
       "Name: grid_index_lon_lat, dtype: object"
      ]
     },
     "execution_count": 9,
     "metadata": {},
     "output_type": "execute_result"
    }
   ],
   "source": [
    "cluster_groups = [x for _, x in clustered_sequential_data[\"grid_index_lon_lat\"].groupby(clustered_sequential_data.cluster_id)]\n",
    "cluster_groups[0]"
   ]
  },
  {
   "cell_type": "code",
   "execution_count": 10,
   "id": "fb00568e-faed-470d-a394-748772975a66",
   "metadata": {},
   "outputs": [],
   "source": [
    "from lagrangian_trajectory_clustering.metrics import levenshtein_numpy_numba, lcs_numpy_numba"
   ]
  },
  {
   "cell_type": "code",
   "execution_count": 11,
   "id": "be6e6ae7-25aa-4b10-b449-403f9c2fec8c",
   "metadata": {},
   "outputs": [],
   "source": [
    "import numpy as np"
   ]
  },
  {
   "cell_type": "code",
   "execution_count": 12,
   "id": "eee4e923-892b-4a73-8f7a-cf317268c223",
   "metadata": {},
   "outputs": [],
   "source": [
    "# lcs_dist = lambda s0, s1: max(len(s0), len(s1)) / lcs_numpy_numba(s0, s1) - 1\n",
    "lcs_dist = lambda s0, s1: 1 - lcs_numpy_numba(s0, s1) / max(len(s0), len(s1))"
   ]
  },
  {
   "cell_type": "code",
   "execution_count": 13,
   "id": "4b3d346c-2fa0-4344-9b24-c55ed4231fe9",
   "metadata": {},
   "outputs": [
    {
     "name": "stderr",
     "output_type": "stream",
     "text": [
      "/opt/conda/lib/python3.10/site-packages/numba/core/ir_utils.py:2152: NumbaPendingDeprecationWarning: \u001b[1m\n",
      "Encountered the use of a type that is scheduled for deprecation: type 'reflected list' found for argument 'x' of function 'lcs_numpy'.\n",
      "\n",
      "For more information visit https://numba.readthedocs.io/en/stable/reference/deprecation.html#deprecation-of-reflection-for-list-and-set-types\n",
      "\u001b[1m\n",
      "File \"../lagrangian_trajectory_clustering/metrics.py\", line 6:\u001b[0m\n",
      "\u001b[1m\n",
      "\u001b[1mdef lcs_numpy(x, y):\n",
      "\u001b[0m\u001b[1m^\u001b[0m\u001b[0m\n",
      "\u001b[0m\n",
      "  warnings.warn(NumbaPendingDeprecationWarning(msg, loc=loc))\n",
      "/opt/conda/lib/python3.10/site-packages/numba/core/ir_utils.py:2152: NumbaPendingDeprecationWarning: \u001b[1m\n",
      "Encountered the use of a type that is scheduled for deprecation: type 'reflected list' found for argument 'y' of function 'lcs_numpy'.\n",
      "\n",
      "For more information visit https://numba.readthedocs.io/en/stable/reference/deprecation.html#deprecation-of-reflection-for-list-and-set-types\n",
      "\u001b[1m\n",
      "File \"../lagrangian_trajectory_clustering/metrics.py\", line 6:\u001b[0m\n",
      "\u001b[1m\n",
      "\u001b[1mdef lcs_numpy(x, y):\n",
      "\u001b[0m\u001b[1m^\u001b[0m\u001b[0m\n",
      "\u001b[0m\n",
      "  warnings.warn(NumbaPendingDeprecationWarning(msg, loc=loc))\n"
     ]
    }
   ],
   "source": [
    "dist_mat_list = [\n",
    "    np.array(\n",
    "        [\n",
    "            cluster_groups[ngroup].apply(lambda s: lcs_dist(s, cluster_groups[ngroup].iloc[n]))\n",
    "            for n in range(len(cluster_groups[ngroup]))\n",
    "        ]\n",
    "    ) for ngroup in range(len(cluster_groups))\n",
    "]"
   ]
  },
  {
   "cell_type": "code",
   "execution_count": 14,
   "id": "b8ad0e93-d923-4e3a-9f6e-543d30f97085",
   "metadata": {},
   "outputs": [
    {
     "data": {
      "text/plain": [
       "[(25, 25), (684, 684), (238, 238), (27, 27), (7, 7), (11, 11), (8, 8)]"
      ]
     },
     "execution_count": 14,
     "metadata": {},
     "output_type": "execute_result"
    }
   ],
   "source": [
    "list(map(np.shape, dist_mat_list))"
   ]
  },
  {
   "cell_type": "code",
   "execution_count": 15,
   "id": "9f883b20-d80b-4d4d-85af-4b0d4b4717e6",
   "metadata": {},
   "outputs": [
    {
     "data": {
      "text/plain": [
       "23"
      ]
     },
     "execution_count": 15,
     "metadata": {},
     "output_type": "execute_result"
    }
   ],
   "source": [
    "lcs_numpy_numba(cluster_groups[4].apply(tuple).unique()[0], cluster_groups[4].apply(tuple).unique()[1])"
   ]
  },
  {
   "cell_type": "code",
   "execution_count": 16,
   "id": "0cf5c96e-6cf8-438f-8645-72ec0fd345a3",
   "metadata": {},
   "outputs": [
    {
     "data": {
      "text/plain": [
       "0.0"
      ]
     },
     "execution_count": 16,
     "metadata": {},
     "output_type": "execute_result"
    }
   ],
   "source": [
    "lcs_dist(cluster_groups[4].apply(tuple).unique()[0], cluster_groups[4].apply(tuple).unique()[1])"
   ]
  },
  {
   "cell_type": "code",
   "execution_count": 17,
   "id": "feb541e0-ab55-4e10-a907-d43bee81940c",
   "metadata": {},
   "outputs": [
    {
     "data": {
      "text/plain": [
       "0    19\n",
       "1    18\n",
       "2     4\n",
       "3     7\n",
       "4     0\n",
       "5     0\n",
       "6     1\n",
       "dtype: int64"
      ]
     },
     "execution_count": 17,
     "metadata": {},
     "output_type": "execute_result"
    }
   ],
   "source": [
    "ref_traj_num = pd.Series(\n",
    "    [np.argmin(np.sum(dm, axis=-1)) for dm in dist_mat_list],\n",
    ")\n",
    "ref_traj_num"
   ]
  },
  {
   "cell_type": "code",
   "execution_count": 28,
   "id": "b89010bf-e0b9-4140-a386-7bc7320193cb",
   "metadata": {},
   "outputs": [
    {
     "data": {
      "text/plain": [
       "0    6.666668e-01\n",
       "1    4.000001e-01\n",
       "2    1.428572e-01\n",
       "3    8.695662e-02\n",
       "4    1.000000e-07\n",
       "5    1.000000e-07\n",
       "6    4.347836e-02\n",
       "dtype: float64"
      ]
     },
     "execution_count": 28,
     "metadata": {},
     "output_type": "execute_result"
    }
   ],
   "source": [
    "cluster_widths = pd.Series(\n",
    "    [np.max(dm[rt, :]) for dm, rt in zip(dist_mat_list, ref_traj_num)],\n",
    ")\n",
    "cluster_widths += 1e-7  # ensure nonzero width to catch roundoff\n",
    "cluster_widths"
   ]
  },
  {
   "cell_type": "code",
   "execution_count": 29,
   "id": "b807cb7e-7e11-45a5-a04f-bbb0cd72fc73",
   "metadata": {},
   "outputs": [],
   "source": [
    "from matplotlib import pyplot as plt"
   ]
  },
  {
   "cell_type": "code",
   "execution_count": 39,
   "id": "ecb55122-72aa-4752-9534-b4074f48f556",
   "metadata": {},
   "outputs": [
    {
     "data": {
      "text/plain": [
       "0    653\n",
       "1     26\n",
       "2     49\n",
       "3    623\n",
       "4    616\n",
       "5    613\n",
       "6    611\n",
       "dtype: int64"
      ]
     },
     "execution_count": 39,
     "metadata": {},
     "output_type": "execute_result"
    }
   ],
   "source": [
    "ref_traj_ind = pd.Series(\n",
    "    [cg.index[rtn] for cg, rtn in zip(cluster_groups, ref_traj_num)],\n",
    "    index=ref_traj_num.index,\n",
    ")\n",
    "ref_traj_ind"
   ]
  },
  {
   "cell_type": "code",
   "execution_count": 43,
   "id": "b0d34637-5f1b-4356-8f85-d0467249829d",
   "metadata": {},
   "outputs": [
    {
     "data": {
      "text/html": [
       "<div>\n",
       "<style scoped>\n",
       "    .dataframe tbody tr th:only-of-type {\n",
       "        vertical-align: middle;\n",
       "    }\n",
       "\n",
       "    .dataframe tbody tr th {\n",
       "        vertical-align: top;\n",
       "    }\n",
       "\n",
       "    .dataframe thead th {\n",
       "        text-align: right;\n",
       "    }\n",
       "</style>\n",
       "<table border=\"1\" class=\"dataframe\">\n",
       "  <thead>\n",
       "    <tr style=\"text-align: right;\">\n",
       "      <th></th>\n",
       "      <th>grid_index_lon_lat</th>\n",
       "      <th>cluster_id</th>\n",
       "    </tr>\n",
       "    <tr>\n",
       "      <th>traj</th>\n",
       "      <th></th>\n",
       "      <th></th>\n",
       "    </tr>\n",
       "  </thead>\n",
       "  <tbody>\n",
       "    <tr>\n",
       "      <th>653</th>\n",
       "      <td>[(53, 54), (53, 53), (52, 53), (52, 52), (52, ...</td>\n",
       "      <td>-1</td>\n",
       "    </tr>\n",
       "    <tr>\n",
       "      <th>26</th>\n",
       "      <td>[(53, 54), (53, 53), (52, 53), (51, 53), (51, ...</td>\n",
       "      <td>0</td>\n",
       "    </tr>\n",
       "    <tr>\n",
       "      <th>49</th>\n",
       "      <td>[(53, 54), (53, 53), (52, 53), (52, 52), (51, ...</td>\n",
       "      <td>1</td>\n",
       "    </tr>\n",
       "    <tr>\n",
       "      <th>623</th>\n",
       "      <td>[(53, 54), (53, 53), (52, 53), (52, 52), (52, ...</td>\n",
       "      <td>2</td>\n",
       "    </tr>\n",
       "    <tr>\n",
       "      <th>616</th>\n",
       "      <td>[(53, 54), (53, 53), (52, 53), (52, 52), (52, ...</td>\n",
       "      <td>3</td>\n",
       "    </tr>\n",
       "    <tr>\n",
       "      <th>613</th>\n",
       "      <td>[(53, 54), (53, 53), (52, 53), (52, 52), (52, ...</td>\n",
       "      <td>4</td>\n",
       "    </tr>\n",
       "    <tr>\n",
       "      <th>611</th>\n",
       "      <td>[(53, 54), (53, 53), (52, 53), (52, 52), (52, ...</td>\n",
       "      <td>5</td>\n",
       "    </tr>\n",
       "  </tbody>\n",
       "</table>\n",
       "</div>"
      ],
      "text/plain": [
       "                                     grid_index_lon_lat  cluster_id\n",
       "traj                                                               \n",
       "653   [(53, 54), (53, 53), (52, 53), (52, 52), (52, ...          -1\n",
       "26    [(53, 54), (53, 53), (52, 53), (51, 53), (51, ...           0\n",
       "49    [(53, 54), (53, 53), (52, 53), (52, 52), (51, ...           1\n",
       "623   [(53, 54), (53, 53), (52, 53), (52, 52), (52, ...           2\n",
       "616   [(53, 54), (53, 53), (52, 53), (52, 52), (52, ...           3\n",
       "613   [(53, 54), (53, 53), (52, 53), (52, 52), (52, ...           4\n",
       "611   [(53, 54), (53, 53), (52, 53), (52, 52), (52, ...           5"
      ]
     },
     "execution_count": 43,
     "metadata": {},
     "output_type": "execute_result"
    }
   ],
   "source": [
    "ref_traj_seq = clustered_sequential_data.loc[ref_traj_ind]\n",
    "ref_traj_seq"
   ]
  },
  {
   "cell_type": "code",
   "execution_count": 44,
   "id": "1af6f06a-5199-42b1-ad26-683f73217207",
   "metadata": {},
   "outputs": [
    {
     "data": {
      "text/html": [
       "<div>\n",
       "<style scoped>\n",
       "    .dataframe tbody tr th:only-of-type {\n",
       "        vertical-align: middle;\n",
       "    }\n",
       "\n",
       "    .dataframe tbody tr th {\n",
       "        vertical-align: top;\n",
       "    }\n",
       "\n",
       "    .dataframe thead th {\n",
       "        text-align: right;\n",
       "    }\n",
       "</style>\n",
       "<table border=\"1\" class=\"dataframe\">\n",
       "  <thead>\n",
       "    <tr style=\"text-align: right;\">\n",
       "      <th></th>\n",
       "      <th></th>\n",
       "      <th>old_traj</th>\n",
       "      <th>longitude</th>\n",
       "      <th>latitude</th>\n",
       "      <th>cluster_id</th>\n",
       "    </tr>\n",
       "    <tr>\n",
       "      <th>traj</th>\n",
       "      <th>obs</th>\n",
       "      <th></th>\n",
       "      <th></th>\n",
       "      <th></th>\n",
       "      <th></th>\n",
       "    </tr>\n",
       "  </thead>\n",
       "  <tbody>\n",
       "    <tr>\n",
       "      <th rowspan=\"5\" valign=\"top\">653</th>\n",
       "      <th>0</th>\n",
       "      <td>6692</td>\n",
       "      <td>-22.691143</td>\n",
       "      <td>16.029333</td>\n",
       "      <td>-1</td>\n",
       "    </tr>\n",
       "    <tr>\n",
       "      <th>1</th>\n",
       "      <td>6692</td>\n",
       "      <td>-22.735670</td>\n",
       "      <td>15.995206</td>\n",
       "      <td>-1</td>\n",
       "    </tr>\n",
       "    <tr>\n",
       "      <th>2</th>\n",
       "      <td>6692</td>\n",
       "      <td>-22.814993</td>\n",
       "      <td>15.954249</td>\n",
       "      <td>-1</td>\n",
       "    </tr>\n",
       "    <tr>\n",
       "      <th>3</th>\n",
       "      <td>6692</td>\n",
       "      <td>-22.923914</td>\n",
       "      <td>15.915742</td>\n",
       "      <td>-1</td>\n",
       "    </tr>\n",
       "    <tr>\n",
       "      <th>4</th>\n",
       "      <td>6692</td>\n",
       "      <td>-23.026970</td>\n",
       "      <td>15.858001</td>\n",
       "      <td>-1</td>\n",
       "    </tr>\n",
       "    <tr>\n",
       "      <th>...</th>\n",
       "      <th>...</th>\n",
       "      <td>...</td>\n",
       "      <td>...</td>\n",
       "      <td>...</td>\n",
       "      <td>...</td>\n",
       "    </tr>\n",
       "    <tr>\n",
       "      <th rowspan=\"5\" valign=\"top\">611</th>\n",
       "      <th>730</th>\n",
       "      <td>6174</td>\n",
       "      <td>-7.983675</td>\n",
       "      <td>4.192977</td>\n",
       "      <td>5</td>\n",
       "    </tr>\n",
       "    <tr>\n",
       "      <th>731</th>\n",
       "      <td>6174</td>\n",
       "      <td>-7.518194</td>\n",
       "      <td>4.120894</td>\n",
       "      <td>5</td>\n",
       "    </tr>\n",
       "    <tr>\n",
       "      <th>732</th>\n",
       "      <td>6174</td>\n",
       "      <td>-6.990498</td>\n",
       "      <td>4.173807</td>\n",
       "      <td>5</td>\n",
       "    </tr>\n",
       "    <tr>\n",
       "      <th>733</th>\n",
       "      <td>6174</td>\n",
       "      <td>-6.498611</td>\n",
       "      <td>4.297916</td>\n",
       "      <td>5</td>\n",
       "    </tr>\n",
       "    <tr>\n",
       "      <th>734</th>\n",
       "      <td>6174</td>\n",
       "      <td>-6.498611</td>\n",
       "      <td>4.297916</td>\n",
       "      <td>5</td>\n",
       "    </tr>\n",
       "  </tbody>\n",
       "</table>\n",
       "<p>3253 rows × 4 columns</p>\n",
       "</div>"
      ],
      "text/plain": [
       "          old_traj  longitude   latitude  cluster_id\n",
       "traj obs                                            \n",
       "653  0        6692 -22.691143  16.029333          -1\n",
       "     1        6692 -22.735670  15.995206          -1\n",
       "     2        6692 -22.814993  15.954249          -1\n",
       "     3        6692 -22.923914  15.915742          -1\n",
       "     4        6692 -23.026970  15.858001          -1\n",
       "...            ...        ...        ...         ...\n",
       "611  730      6174  -7.983675   4.192977           5\n",
       "     731      6174  -7.518194   4.120894           5\n",
       "     732      6174  -6.990498   4.173807           5\n",
       "     733      6174  -6.498611   4.297916           5\n",
       "     734      6174  -6.498611   4.297916           5\n",
       "\n",
       "[3253 rows x 4 columns]"
      ]
     },
     "execution_count": 44,
     "metadata": {},
     "output_type": "execute_result"
    }
   ],
   "source": [
    "ref_traj_full = clustered.set_index([\"traj\", \"obs\"]).loc[ref_traj_ind]\n",
    "ref_traj_full"
   ]
  },
  {
   "cell_type": "code",
   "execution_count": 49,
   "id": "b1b3a08a-ebf3-4141-bfb7-6aad8d3a86a5",
   "metadata": {},
   "outputs": [],
   "source": [
    "from lagrangian_trajectory_clustering.data_loading import (\n",
    "    load_cape_verde_trajectories,\n",
    "    reindex_trajectories,\n",
    ")"
   ]
  },
  {
   "cell_type": "code",
   "execution_count": 50,
   "id": "2318490d-44fb-4b8d-930a-8776bca6252f",
   "metadata": {},
   "outputs": [
    {
     "data": {
      "text/html": [
       "<div>\n",
       "<style scoped>\n",
       "    .dataframe tbody tr th:only-of-type {\n",
       "        vertical-align: middle;\n",
       "    }\n",
       "\n",
       "    .dataframe tbody tr th {\n",
       "        vertical-align: top;\n",
       "    }\n",
       "\n",
       "    .dataframe thead th {\n",
       "        text-align: right;\n",
       "    }\n",
       "</style>\n",
       "<table border=\"1\" class=\"dataframe\">\n",
       "  <thead>\n",
       "    <tr style=\"text-align: right;\">\n",
       "      <th></th>\n",
       "      <th></th>\n",
       "      <th>time</th>\n",
       "      <th>latitude</th>\n",
       "      <th>longitude</th>\n",
       "    </tr>\n",
       "    <tr>\n",
       "      <th>traj</th>\n",
       "      <th>obs</th>\n",
       "      <th></th>\n",
       "      <th></th>\n",
       "      <th></th>\n",
       "    </tr>\n",
       "  </thead>\n",
       "  <tbody>\n",
       "    <tr>\n",
       "      <th rowspan=\"5\" valign=\"top\">0</th>\n",
       "      <th>0</th>\n",
       "      <td>1997-08-14</td>\n",
       "      <td>16.030224</td>\n",
       "      <td>-22.692162</td>\n",
       "    </tr>\n",
       "    <tr>\n",
       "      <th>1</th>\n",
       "      <td>1997-08-15</td>\n",
       "      <td>16.017056</td>\n",
       "      <td>-22.714727</td>\n",
       "    </tr>\n",
       "    <tr>\n",
       "      <th>2</th>\n",
       "      <td>1997-08-16</td>\n",
       "      <td>15.994600</td>\n",
       "      <td>-22.739052</td>\n",
       "    </tr>\n",
       "    <tr>\n",
       "      <th>3</th>\n",
       "      <td>1997-08-17</td>\n",
       "      <td>15.954251</td>\n",
       "      <td>-22.766460</td>\n",
       "    </tr>\n",
       "    <tr>\n",
       "      <th>4</th>\n",
       "      <td>1997-08-18</td>\n",
       "      <td>15.938750</td>\n",
       "      <td>-22.811235</td>\n",
       "    </tr>\n",
       "    <tr>\n",
       "      <th>...</th>\n",
       "      <th>...</th>\n",
       "      <td>...</td>\n",
       "      <td>...</td>\n",
       "      <td>...</td>\n",
       "    </tr>\n",
       "    <tr>\n",
       "      <th rowspan=\"5\" valign=\"top\">9999</th>\n",
       "      <th>248</th>\n",
       "      <td>1998-06-07</td>\n",
       "      <td>9.679025</td>\n",
       "      <td>-49.273670</td>\n",
       "    </tr>\n",
       "    <tr>\n",
       "      <th>249</th>\n",
       "      <td>1998-06-08</td>\n",
       "      <td>9.653998</td>\n",
       "      <td>-49.456814</td>\n",
       "    </tr>\n",
       "    <tr>\n",
       "      <th>250</th>\n",
       "      <td>1998-06-09</td>\n",
       "      <td>9.652131</td>\n",
       "      <td>-49.642100</td>\n",
       "    </tr>\n",
       "    <tr>\n",
       "      <th>251</th>\n",
       "      <td>1998-06-10</td>\n",
       "      <td>9.651998</td>\n",
       "      <td>-49.820766</td>\n",
       "    </tr>\n",
       "    <tr>\n",
       "      <th>252</th>\n",
       "      <td>1998-06-10</td>\n",
       "      <td>9.651998</td>\n",
       "      <td>-49.820766</td>\n",
       "    </tr>\n",
       "  </tbody>\n",
       "</table>\n",
       "<p>2967450 rows × 3 columns</p>\n",
       "</div>"
      ],
      "text/plain": [
       "               time   latitude  longitude\n",
       "traj obs                                 \n",
       "0    0   1997-08-14  16.030224 -22.692162\n",
       "     1   1997-08-15  16.017056 -22.714727\n",
       "     2   1997-08-16  15.994600 -22.739052\n",
       "     3   1997-08-17  15.954251 -22.766460\n",
       "     4   1997-08-18  15.938750 -22.811235\n",
       "...             ...        ...        ...\n",
       "9999 248 1998-06-07   9.679025 -49.273670\n",
       "     249 1998-06-08   9.653998 -49.456814\n",
       "     250 1998-06-09   9.652131 -49.642100\n",
       "     251 1998-06-10   9.651998 -49.820766\n",
       "     252 1998-06-10   9.651998 -49.820766\n",
       "\n",
       "[2967450 rows x 3 columns]"
      ]
     },
     "metadata": {},
     "output_type": "display_data"
    }
   ],
   "source": [
    "raw_data = load_cape_verde_trajectories(year=year)\n",
    "\n",
    "display(raw_data)"
   ]
  },
  {
   "cell_type": "code",
   "execution_count": 52,
   "id": "6c1407c3-0e3e-4239-84d0-5bd6edef18f5",
   "metadata": {},
   "outputs": [],
   "source": [
    "from matplotlib import pyplot as plt"
   ]
  },
  {
   "cell_type": "code",
   "execution_count": 53,
   "id": "45aae7a8-0926-438e-8ca9-fc47b5748262",
   "metadata": {},
   "outputs": [
    {
     "name": "stdout",
     "output_type": "stream",
     "text": [
      "CPU times: user 166 ms, sys: 95.3 ms, total: 262 ms\n",
      "Wall time: 188 ms\n"
     ]
    },
    {
     "data": {
      "text/plain": [
       "cluster_id\n",
       "-1    AxesSubplot(0.125,0.125;0.775x0.755)\n",
       " 0    AxesSubplot(0.125,0.125;0.775x0.755)\n",
       " 1    AxesSubplot(0.125,0.125;0.775x0.755)\n",
       " 2    AxesSubplot(0.125,0.125;0.775x0.755)\n",
       " 3    AxesSubplot(0.125,0.125;0.775x0.755)\n",
       " 4    AxesSubplot(0.125,0.125;0.775x0.755)\n",
       " 5    AxesSubplot(0.125,0.125;0.775x0.755)\n",
       "dtype: object"
      ]
     },
     "execution_count": 53,
     "metadata": {},
     "output_type": "execute_result"
    },
    {
     "data": {
      "image/png": "[encoded data removed]",
      "text/plain": [
       "<Figure size 432x288 with 1 Axes>"
      ]
     },
     "metadata": {
      "needs_background": "light"
     },
     "output_type": "display_data"
    }
   ],
   "source": [
    "%%time\n",
    "\n",
    "fig, ax = plt.subplots(1, 1)\n",
    "\n",
    "raw_data.plot.scatter(x=\"longitude\", y=\"latitude\", s=1, alpha=0.01, color=\"black\", ax=ax)\n",
    "ref_traj_full.groupby(\"cluster_id\").plot.line(x=\"longitude\", y=\"latitude\", ax=ax, legend=False);"
   ]
  },
  {
   "cell_type": "code",
   "execution_count": 54,
   "id": "f28d40d9-72b8-4914-86d4-933aa45b9098",
   "metadata": {},
   "outputs": [],
   "source": [
    "from lagrangian_trajectory_clustering.trafo.grid import (\n",
    "    geo_df_to_grid_series,  # lat lon coords to grid index\n",
    "    grid_series_to_geo_df,  # grid index to lat lon coords\n",
    ")\n",
    "\n",
    "from lagrangian_trajectory_clustering.trafo.sequence import (\n",
    "    remove_subsequent_identical_elements,  # transorm to sequence of unique subsequent elemets\n",
    "    multi_index_series_to_series_sequences,  # transform to series of sequences\n",
    "    series_sequences_to_multi_index_series,  # transform back from series of sequences\n",
    "    fill_in_segments,  # fill in jumps leaping over grid boxes\n",
    ")"
   ]
  },
  {
   "cell_type": "code",
   "execution_count": 55,
   "id": "07e50907-bb47-43a5-9a78-d91215a54565",
   "metadata": {},
   "outputs": [],
   "source": [
    "lat_lon_res = 7"
   ]
  },
  {
   "cell_type": "code",
   "execution_count": 56,
   "id": "8cfa2d82-8d45-4533-8d7f-9e266c2caaf7",
   "metadata": {},
   "outputs": [
    {
     "name": "stdout",
     "output_type": "stream",
     "text": [
      "58 85\n"
     ]
    }
   ],
   "source": [
    "lat_num = int(180 // (abs(raw_data.latitude.max() - raw_data.latitude.min()) / lat_lon_res) + 1)\n",
    "lon_num = int(360 // (abs(raw_data.longitude.max() - raw_data.longitude.min()) / lat_lon_res) + 1)\n",
    "print(lon_num, lat_num)"
   ]
  },
  {
   "cell_type": "code",
   "execution_count": 57,
   "id": "652f6076-8a75-43b4-b6b6-d73e4c69841e",
   "metadata": {},
   "outputs": [
    {
     "name": "stderr",
     "output_type": "stream",
     "text": [
      "/opt/conda/lib/python3.10/site-packages/pandas/core/algorithms.py:798: FutureWarning: In a future version, the Index constructor will not infer numeric dtypes when passed object-dtype sequences (matching Series behavior)\n",
      "  uniques = Index(uniques)\n"
     ]
    },
    {
     "data": {
      "text/html": [
       "<div>\n",
       "<style scoped>\n",
       "    .dataframe tbody tr th:only-of-type {\n",
       "        vertical-align: middle;\n",
       "    }\n",
       "\n",
       "    .dataframe tbody tr th {\n",
       "        vertical-align: top;\n",
       "    }\n",
       "\n",
       "    .dataframe thead th {\n",
       "        text-align: right;\n",
       "    }\n",
       "</style>\n",
       "<table border=\"1\" class=\"dataframe\">\n",
       "  <thead>\n",
       "    <tr style=\"text-align: right;\">\n",
       "      <th></th>\n",
       "      <th></th>\n",
       "      <th>longitude</th>\n",
       "      <th>latitude</th>\n",
       "    </tr>\n",
       "    <tr>\n",
       "      <th>traj</th>\n",
       "      <th>obs</th>\n",
       "      <th></th>\n",
       "      <th></th>\n",
       "    </tr>\n",
       "  </thead>\n",
       "  <tbody>\n",
       "    <tr>\n",
       "      <th rowspan=\"5\" valign=\"top\">0</th>\n",
       "      <th>0</th>\n",
       "      <td>337.894737</td>\n",
       "      <td>16.071429</td>\n",
       "    </tr>\n",
       "    <tr>\n",
       "      <th>1</th>\n",
       "      <td>337.894737</td>\n",
       "      <td>13.928571</td>\n",
       "    </tr>\n",
       "    <tr>\n",
       "      <th>2</th>\n",
       "      <td>337.894737</td>\n",
       "      <td>16.071429</td>\n",
       "    </tr>\n",
       "    <tr>\n",
       "      <th>3</th>\n",
       "      <td>337.894737</td>\n",
       "      <td>13.928571</td>\n",
       "    </tr>\n",
       "    <tr>\n",
       "      <th>4</th>\n",
       "      <td>331.578947</td>\n",
       "      <td>13.928571</td>\n",
       "    </tr>\n",
       "    <tr>\n",
       "      <th>...</th>\n",
       "      <th>...</th>\n",
       "      <td>...</td>\n",
       "      <td>...</td>\n",
       "    </tr>\n",
       "    <tr>\n",
       "      <th rowspan=\"5\" valign=\"top\">9999</th>\n",
       "      <th>3</th>\n",
       "      <td>325.263158</td>\n",
       "      <td>13.928571</td>\n",
       "    </tr>\n",
       "    <tr>\n",
       "      <th>4</th>\n",
       "      <td>325.263158</td>\n",
       "      <td>11.785714</td>\n",
       "    </tr>\n",
       "    <tr>\n",
       "      <th>5</th>\n",
       "      <td>318.947368</td>\n",
       "      <td>11.785714</td>\n",
       "    </tr>\n",
       "    <tr>\n",
       "      <th>6</th>\n",
       "      <td>312.631579</td>\n",
       "      <td>11.785714</td>\n",
       "    </tr>\n",
       "    <tr>\n",
       "      <th>7</th>\n",
       "      <td>312.631579</td>\n",
       "      <td>9.642857</td>\n",
       "    </tr>\n",
       "  </tbody>\n",
       "</table>\n",
       "<p>94388 rows × 2 columns</p>\n",
       "</div>"
      ],
      "text/plain": [
       "           longitude   latitude\n",
       "traj obs                       \n",
       "0    0    337.894737  16.071429\n",
       "     1    337.894737  13.928571\n",
       "     2    337.894737  16.071429\n",
       "     3    337.894737  13.928571\n",
       "     4    331.578947  13.928571\n",
       "...              ...        ...\n",
       "9999 3    325.263158  13.928571\n",
       "     4    325.263158  11.785714\n",
       "     5    318.947368  11.785714\n",
       "     6    312.631579  11.785714\n",
       "     7    312.631579   9.642857\n",
       "\n",
       "[94388 rows x 2 columns]"
      ]
     },
     "metadata": {},
     "output_type": "display_data"
    },
    {
     "name": "stdout",
     "output_type": "stream",
     "text": [
      "CPU times: user 5.06 s, sys: 174 ms, total: 5.23 s\n",
      "Wall time: 5.24 s\n"
     ]
    }
   ],
   "source": [
    "%%time\n",
    "\n",
    "raw_data_roundtrip = grid_series_to_geo_df(\n",
    "    series_sequences_to_multi_index_series(\n",
    "        fill_in_segments(\n",
    "            remove_subsequent_identical_elements(\n",
    "                multi_index_series_to_series_sequences(\n",
    "                    geo_df_to_grid_series(\n",
    "                        raw_data,\n",
    "                        lon_num=lon_num,\n",
    "                        lat_num=lat_num,\n",
    "                    )\n",
    "                )\n",
    "            )\n",
    "        )\n",
    "    ),\n",
    "    lon_num=lon_num,\n",
    "    lat_num=lat_num,\n",
    ")\n",
    "\n",
    "display(raw_data_roundtrip)"
   ]
  },
  {
   "cell_type": "code",
   "execution_count": 58,
   "id": "25c2890c-2f46-4524-a6ea-5cdb045052bf",
   "metadata": {},
   "outputs": [
    {
     "data": {
      "text/plain": [
       "traj\n",
       "0       [(53, 49), (53, 48), (53, 49), (53, 48), (52, ...\n",
       "1       [(53, 49), (53, 48), (53, 49), (53, 48), (52, ...\n",
       "2       [(53, 49), (53, 48), (52, 48), (52, 49), (52, ...\n",
       "3       [(53, 49), (52, 49), (52, 48), (51, 48), (50, ...\n",
       "4       [(53, 49), (52, 49), (52, 48), (52, 49), (51, ...\n",
       "                              ...                        \n",
       "9995    [(53, 49), (53, 48), (52, 48), (51, 48), (51, ...\n",
       "9996    [(53, 49), (53, 48), (52, 48), (51, 48), (51, ...\n",
       "9997    [(53, 49), (53, 48), (52, 48), (51, 48), (51, ...\n",
       "9998    [(53, 49), (53, 48), (52, 48), (51, 48), (51, ...\n",
       "9999    [(53, 49), (53, 48), (52, 48), (51, 48), (51, ...\n",
       "Name: grid_index_lon_lat, Length: 10000, dtype: object"
      ]
     },
     "metadata": {},
     "output_type": "display_data"
    }
   ],
   "source": [
    "sequential_data = fill_in_segments(\n",
    "    remove_subsequent_identical_elements(\n",
    "        multi_index_series_to_series_sequences(\n",
    "            geo_df_to_grid_series(\n",
    "                raw_data,\n",
    "                lon_num=lon_num,\n",
    "                lat_num=lat_num,\n",
    "            )\n",
    "        )\n",
    "    )\n",
    ")\n",
    "\n",
    "display(sequential_data)"
   ]
  },
  {
   "cell_type": "code",
   "execution_count": 59,
   "id": "4fa60b06-0516-4aba-a2c8-0c169da9ab4c",
   "metadata": {},
   "outputs": [
    {
     "data": {
      "image/png": "[encoded data removed]",
      "text/plain": [
       "<Figure size 432x288 with 1 Axes>"
      ]
     },
     "metadata": {
      "needs_background": "light"
     },
     "output_type": "display_data"
    }
   ],
   "source": [
    "ax = sequential_data.apply(len).apply(lambda l: int(round(2 * l, -1) / 2)).value_counts().sort_index().plot.bar();\n",
    "ax.grid()\n",
    "ax.set_xlabel(\"traj length\")\n",
    "ax.set_ylabel(\"count\");"
   ]
  },
  {
   "cell_type": "code",
   "execution_count": 60,
   "id": "c3237c1a-e6ac-4cd6-b562-3a8c75e95f0f",
   "metadata": {},
   "outputs": [
    {
     "data": {
      "text/plain": [
       "count    10000.000000\n",
       "mean         9.438800\n",
       "std          4.481926\n",
       "min          6.000000\n",
       "25%          8.000000\n",
       "50%          8.000000\n",
       "75%          9.000000\n",
       "max         46.000000\n",
       "Name: grid_index_lon_lat, dtype: float64"
      ]
     },
     "execution_count": 60,
     "metadata": {},
     "output_type": "execute_result"
    }
   ],
   "source": [
    "sequential_data.apply(len).describe()"
   ]
  },
  {
   "cell_type": "code",
   "execution_count": 80,
   "id": "9dd6539a-1bb2-4eed-baf3-e15aa07a4344",
   "metadata": {},
   "outputs": [
    {
     "name": "stdout",
     "output_type": "stream",
     "text": [
      "CPU times: user 31 s, sys: 19.3 ms, total: 31 s\n",
      "Wall time: 31.2 s\n"
     ]
    }
   ],
   "source": [
    "%%time\n",
    "\n",
    "dist_matrix = np.array(\n",
    "    [\n",
    "        sequential_data.apply(lambda s: lcs_dist(s, ref_traj_seq.iloc[n, 0]))\n",
    "        for n in range(len(ref_traj_seq))\n",
    "    ]\n",
    ")"
   ]
  },
  {
   "cell_type": "code",
   "execution_count": 82,
   "id": "51c5df05-c7f9-4983-884b-3d3f6c0f9a0b",
   "metadata": {},
   "outputs": [
    {
     "data": {
      "text/plain": [
       "array([ 9,  0,  0, 21, 21,  9, 21])"
      ]
     },
     "execution_count": 82,
     "metadata": {},
     "output_type": "execute_result"
    }
   ],
   "source": [
    "np.argmin(dist_matrix, axis=-1)"
   ]
  },
  {
   "cell_type": "code",
   "execution_count": 81,
   "id": "6e1224bf-3d26-4582-b2e0-4768546cae03",
   "metadata": {},
   "outputs": [
    {
     "data": {
      "text/plain": [
       "[<matplotlib.lines.Line2D at 0x7f938618fdf0>]"
      ]
     },
     "execution_count": 81,
     "metadata": {},
     "output_type": "execute_result"
    },
    {
     "data": {
      "image/png": "[encoded data removed]",
      "text/plain": [
       "<Figure size 432x288 with 1 Axes>"
      ]
     },
     "metadata": {
      "needs_background": "light"
     },
     "output_type": "display_data"
    }
   ],
   "source": [
    "plt.plot(dist_matrix[0, :])"
   ]
  },
  {
   "cell_type": "code",
   "execution_count": 77,
   "id": "d8df10d0-680c-4945-b7d0-7c9287394356",
   "metadata": {},
   "outputs": [
    {
     "data": {
      "text/plain": [
       "[(53, 49),\n",
       " (53, 48),\n",
       " (52, 48),\n",
       " (52, 47),\n",
       " (52, 46),\n",
       " (51, 46),\n",
       " (51, 45),\n",
       " (50, 45),\n",
       " (49, 45),\n",
       " (49, 44),\n",
       " (49, 45),\n",
       " (49, 46),\n",
       " (49, 47),\n",
       " (49, 48)]"
      ]
     },
     "execution_count": 77,
     "metadata": {},
     "output_type": "execute_result"
    }
   ],
   "source": [
    "sequential_data.loc[clustered.set_index(\"traj\").old_traj.loc[ref_traj_seq.index]].iloc[0]"
   ]
  },
  {
   "cell_type": "code",
   "execution_count": 79,
   "id": "a1faf134-fab0-4be5-b2c2-e36a9e198b57",
   "metadata": {},
   "outputs": [
    {
     "data": {
      "text/plain": [
       "[(53, 54),\n",
       " (53, 53),\n",
       " (52, 53),\n",
       " (52, 52),\n",
       " (52, 51),\n",
       " (52, 50),\n",
       " (51, 50),\n",
       " (51, 49),\n",
       " (50, 49),\n",
       " (49, 49),\n",
       " (49, 50),\n",
       " (49, 51),\n",
       " (49, 52)]"
      ]
     },
     "execution_count": 79,
     "metadata": {},
     "output_type": "execute_result"
    }
   ],
   "source": [
    "ref_traj_seq.iloc[0, 0]"
   ]
  },
  {
   "cell_type": "code",
   "execution_count": 74,
   "id": "644bf9c2-b95a-4dfd-bc10-c7a1f087b8c3",
   "metadata": {},
   "outputs": [
    {
     "data": {
      "text/plain": [
       "array([0.625, 1.   , 1.   , 0.375, 0.5  , 0.625, 0.5  ])"
      ]
     },
     "execution_count": 74,
     "metadata": {},
     "output_type": "execute_result"
    }
   ],
   "source": [
    "dist_matrix.min(axis=-1)"
   ]
  },
  {
   "cell_type": "code",
   "execution_count": 73,
   "id": "586165a5-3edb-4273-9157-204d8ba89344",
   "metadata": {},
   "outputs": [
    {
     "data": {
      "image/png": "[encoded data removed]",
      "text/plain": [
       "<Figure size 432x288 with 7 Axes>"
      ]
     },
     "metadata": {
      "needs_background": "light"
     },
     "output_type": "display_data"
    }
   ],
   "source": [
    "pd.DataFrame(dist_matrix.T, columns=ref_traj_seq.index, index=sequential_data.index).plot(subplots=True);"
   ]
  },
  {
   "cell_type": "code",
   "execution_count": null,
   "id": "601e6243-cab8-496a-bda0-f344eb0de10a",
   "metadata": {},
   "outputs": [],
   "source": [
    "label = pd.Series(cluster_ref_traj.index[dist_matrix.argmin(axis=0)], index=sequential_data.index, name=\"label\")\n",
    "display(label)\n",
    "label.plot.hist()"
   ]
  },
  {
   "cell_type": "code",
   "execution_count": null,
   "id": "21371276-1a25-4415-8f48-e97528a8eac0",
   "metadata": {},
   "outputs": [],
   "source": [
    "labeled_data = raw_data.join(label).reset_index().set_index([\"label\", \"traj\", \"obs\"])\n",
    "labeled_data"
   ]
  },
  {
   "cell_type": "code",
   "execution_count": null,
   "id": "65a628d2-5a8c-4448-b8a3-8167460d32d5",
   "metadata": {},
   "outputs": [],
   "source": [
    "%%time\n",
    "\n",
    "fig, ax = plt.subplots(\n",
    "    len(sequential_data_refs), 1,\n",
    "    figsize=(7, len(sequential_data_refs) * 2),\n",
    "    sharex=True, sharey=True,\n",
    ")\n",
    "ax = ax.flatten()\n",
    "\n",
    "for lab, _ax, rt in zip(label.unique(), ax, [x for _, x in ref_trajs.groupby(\"traj\")]):\n",
    "\n",
    "    raw_data.plot.scatter(x=\"longitude\", y=\"latitude\", s=1, alpha=0.01, color=\"black\", ax=_ax)\n",
    "    labeled_data.loc[lab].plot.scatter(x=\"longitude\", y=\"latitude\", s=2, alpha=0.1, color=\"orange\", ax=_ax);\n",
    "    rt.plot.line(x=\"longitude\", y=\"latitude\", ax=_ax, linewidth=3, color=\"blue\", legend=False);"
   ]
  }
 ],
 "metadata": {
  "kernelspec": {
   "display_name": "Python 3 (ipykernel)",
   "language": "python",
   "name": "python3"
  },
  "language_info": {
   "codemirror_mode": {
    "name": "ipython",
    "version": 3
   },
   "file_extension": ".py",
   "mimetype": "text/x-python",
   "name": "python",
   "nbconvert_exporter": "python",
   "pygments_lexer": "ipython3",
   "version": "3.10.4"
  }
 },
 "nbformat": 4,
 "nbformat_minor": 5
}
