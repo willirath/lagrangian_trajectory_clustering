{
 "cells": [
  {
   "cell_type": "code",
   "execution_count": 1,
   "id": "23d3b2ef-cb1d-4640-a574-a887c2ff88d7",
   "metadata": {},
   "outputs": [],
   "source": [
    "import pandas as pd"
   ]
  },
  {
   "cell_type": "code",
   "execution_count": 4,
   "id": "b015b59a-a0fe-436f-bdee-dc805cf99525",
   "metadata": {},
   "outputs": [],
   "source": [
    "year = 2017"
   ]
  },
  {
   "cell_type": "code",
   "execution_count": 5,
   "id": "c6d37636-05e8-4cfc-a4f5-c59da56114f4",
   "metadata": {},
   "outputs": [
    {
     "data": {
      "text/html": [
       "<div>\n",
       "<style scoped>\n",
       "    .dataframe tbody tr th:only-of-type {\n",
       "        vertical-align: middle;\n",
       "    }\n",
       "\n",
       "    .dataframe tbody tr th {\n",
       "        vertical-align: top;\n",
       "    }\n",
       "\n",
       "    .dataframe thead th {\n",
       "        text-align: right;\n",
       "    }\n",
       "</style>\n",
       "<table border=\"1\" class=\"dataframe\">\n",
       "  <thead>\n",
       "    <tr style=\"text-align: right;\">\n",
       "      <th></th>\n",
       "      <th>traj</th>\n",
       "      <th>obs</th>\n",
       "      <th>old_traj</th>\n",
       "      <th>old_traj.1</th>\n",
       "      <th>longitude</th>\n",
       "      <th>latitude</th>\n",
       "      <th>cluster_id</th>\n",
       "    </tr>\n",
       "  </thead>\n",
       "  <tbody>\n",
       "    <tr>\n",
       "      <th>0</th>\n",
       "      <td>0</td>\n",
       "      <td>0</td>\n",
       "      <td>4</td>\n",
       "      <td>40</td>\n",
       "      <td>-22.692282</td>\n",
       "      <td>16.033049</td>\n",
       "      <td>-1</td>\n",
       "    </tr>\n",
       "    <tr>\n",
       "      <th>1</th>\n",
       "      <td>0</td>\n",
       "      <td>1</td>\n",
       "      <td>4</td>\n",
       "      <td>40</td>\n",
       "      <td>-22.749298</td>\n",
       "      <td>16.032228</td>\n",
       "      <td>-1</td>\n",
       "    </tr>\n",
       "    <tr>\n",
       "      <th>2</th>\n",
       "      <td>0</td>\n",
       "      <td>2</td>\n",
       "      <td>4</td>\n",
       "      <td>40</td>\n",
       "      <td>-22.764538</td>\n",
       "      <td>16.034508</td>\n",
       "      <td>-1</td>\n",
       "    </tr>\n",
       "    <tr>\n",
       "      <th>3</th>\n",
       "      <td>0</td>\n",
       "      <td>3</td>\n",
       "      <td>4</td>\n",
       "      <td>40</td>\n",
       "      <td>-22.774569</td>\n",
       "      <td>16.018383</td>\n",
       "      <td>-1</td>\n",
       "    </tr>\n",
       "    <tr>\n",
       "      <th>4</th>\n",
       "      <td>0</td>\n",
       "      <td>4</td>\n",
       "      <td>4</td>\n",
       "      <td>40</td>\n",
       "      <td>-22.818733</td>\n",
       "      <td>15.991084</td>\n",
       "      <td>-1</td>\n",
       "    </tr>\n",
       "    <tr>\n",
       "      <th>...</th>\n",
       "      <td>...</td>\n",
       "      <td>...</td>\n",
       "      <td>...</td>\n",
       "      <td>...</td>\n",
       "      <td>...</td>\n",
       "      <td>...</td>\n",
       "      <td>...</td>\n",
       "    </tr>\n",
       "    <tr>\n",
       "      <th>178610</th>\n",
       "      <td>683</td>\n",
       "      <td>253</td>\n",
       "      <td>999</td>\n",
       "      <td>9964</td>\n",
       "      <td>-49.320366</td>\n",
       "      <td>10.847726</td>\n",
       "      <td>2</td>\n",
       "    </tr>\n",
       "    <tr>\n",
       "      <th>178611</th>\n",
       "      <td>683</td>\n",
       "      <td>254</td>\n",
       "      <td>999</td>\n",
       "      <td>9964</td>\n",
       "      <td>-49.505756</td>\n",
       "      <td>10.759947</td>\n",
       "      <td>2</td>\n",
       "    </tr>\n",
       "    <tr>\n",
       "      <th>178612</th>\n",
       "      <td>683</td>\n",
       "      <td>255</td>\n",
       "      <td>999</td>\n",
       "      <td>9964</td>\n",
       "      <td>-49.673706</td>\n",
       "      <td>10.700109</td>\n",
       "      <td>2</td>\n",
       "    </tr>\n",
       "    <tr>\n",
       "      <th>178613</th>\n",
       "      <td>683</td>\n",
       "      <td>256</td>\n",
       "      <td>999</td>\n",
       "      <td>9964</td>\n",
       "      <td>-49.828434</td>\n",
       "      <td>10.668164</td>\n",
       "      <td>2</td>\n",
       "    </tr>\n",
       "    <tr>\n",
       "      <th>178614</th>\n",
       "      <td>683</td>\n",
       "      <td>257</td>\n",
       "      <td>999</td>\n",
       "      <td>9964</td>\n",
       "      <td>-49.828434</td>\n",
       "      <td>10.668164</td>\n",
       "      <td>2</td>\n",
       "    </tr>\n",
       "  </tbody>\n",
       "</table>\n",
       "<p>178615 rows × 7 columns</p>\n",
       "</div>"
      ],
      "text/plain": [
       "        traj  obs  old_traj  old_traj.1  longitude   latitude  cluster_id\n",
       "0          0    0         4          40 -22.692282  16.033049          -1\n",
       "1          0    1         4          40 -22.749298  16.032228          -1\n",
       "2          0    2         4          40 -22.764538  16.034508          -1\n",
       "3          0    3         4          40 -22.774569  16.018383          -1\n",
       "4          0    4         4          40 -22.818733  15.991084          -1\n",
       "...      ...  ...       ...         ...        ...        ...         ...\n",
       "178610   683  253       999        9964 -49.320366  10.847726           2\n",
       "178611   683  254       999        9964 -49.505756  10.759947           2\n",
       "178612   683  255       999        9964 -49.673706  10.700109           2\n",
       "178613   683  256       999        9964 -49.828434  10.668164           2\n",
       "178614   683  257       999        9964 -49.828434  10.668164           2\n",
       "\n",
       "[178615 rows x 7 columns]"
      ]
     },
     "execution_count": 5,
     "metadata": {},
     "output_type": "execute_result"
    }
   ],
   "source": [
    "clustered = pd.read_csv(\"clustered_data_1_0.csv\")\n",
    "clustered"
   ]
  },
  {
   "cell_type": "code",
   "execution_count": 20,
   "id": "0b8729b1-815e-4596-82f5-31e934e39569",
   "metadata": {},
   "outputs": [
    {
     "data": {
      "text/plain": [
       "cluster_id\n",
       "0     67\n",
       "1    275\n",
       "2     56\n",
       "3    783\n",
       "4    992\n",
       "Name: traj, dtype: int64"
      ]
     },
     "execution_count": 20,
     "metadata": {},
     "output_type": "execute_result"
    }
   ],
   "source": [
    "cluster_ref_traj = (\n",
    "    clustered[[\"cluster_id\", \"old_traj.1\"]]\n",
    "    .groupby(\"cluster_id\").first()\n",
    "    .iloc[:, 0].rename(\"traj\")\n",
    "    .drop(-1)\n",
    ")\n",
    "cluster_ref_traj"
   ]
  },
  {
   "cell_type": "code",
   "execution_count": 6,
   "id": "b1b3a08a-ebf3-4141-bfb7-6aad8d3a86a5",
   "metadata": {},
   "outputs": [],
   "source": [
    "from lagrangian_trajectory_clustering.data_loading import (\n",
    "    load_cape_verde_trajectories,\n",
    "    reindex_trajectories,\n",
    ")"
   ]
  },
  {
   "cell_type": "code",
   "execution_count": 7,
   "id": "2318490d-44fb-4b8d-930a-8776bca6252f",
   "metadata": {},
   "outputs": [
    {
     "data": {
      "text/html": [
       "<div>\n",
       "<style scoped>\n",
       "    .dataframe tbody tr th:only-of-type {\n",
       "        vertical-align: middle;\n",
       "    }\n",
       "\n",
       "    .dataframe tbody tr th {\n",
       "        vertical-align: top;\n",
       "    }\n",
       "\n",
       "    .dataframe thead th {\n",
       "        text-align: right;\n",
       "    }\n",
       "</style>\n",
       "<table border=\"1\" class=\"dataframe\">\n",
       "  <thead>\n",
       "    <tr style=\"text-align: right;\">\n",
       "      <th></th>\n",
       "      <th></th>\n",
       "      <th>time</th>\n",
       "      <th>latitude</th>\n",
       "      <th>longitude</th>\n",
       "    </tr>\n",
       "    <tr>\n",
       "      <th>traj</th>\n",
       "      <th>obs</th>\n",
       "      <th></th>\n",
       "      <th></th>\n",
       "      <th></th>\n",
       "    </tr>\n",
       "  </thead>\n",
       "  <tbody>\n",
       "    <tr>\n",
       "      <th rowspan=\"5\" valign=\"top\">0</th>\n",
       "      <th>0</th>\n",
       "      <td>1997-08-14</td>\n",
       "      <td>16.030224</td>\n",
       "      <td>-22.692162</td>\n",
       "    </tr>\n",
       "    <tr>\n",
       "      <th>1</th>\n",
       "      <td>1997-08-15</td>\n",
       "      <td>16.017056</td>\n",
       "      <td>-22.714727</td>\n",
       "    </tr>\n",
       "    <tr>\n",
       "      <th>2</th>\n",
       "      <td>1997-08-16</td>\n",
       "      <td>15.994600</td>\n",
       "      <td>-22.739052</td>\n",
       "    </tr>\n",
       "    <tr>\n",
       "      <th>3</th>\n",
       "      <td>1997-08-17</td>\n",
       "      <td>15.954251</td>\n",
       "      <td>-22.766460</td>\n",
       "    </tr>\n",
       "    <tr>\n",
       "      <th>4</th>\n",
       "      <td>1997-08-18</td>\n",
       "      <td>15.938750</td>\n",
       "      <td>-22.811235</td>\n",
       "    </tr>\n",
       "    <tr>\n",
       "      <th>...</th>\n",
       "      <th>...</th>\n",
       "      <td>...</td>\n",
       "      <td>...</td>\n",
       "      <td>...</td>\n",
       "    </tr>\n",
       "    <tr>\n",
       "      <th rowspan=\"5\" valign=\"top\">9999</th>\n",
       "      <th>248</th>\n",
       "      <td>1998-06-07</td>\n",
       "      <td>9.679025</td>\n",
       "      <td>-49.273670</td>\n",
       "    </tr>\n",
       "    <tr>\n",
       "      <th>249</th>\n",
       "      <td>1998-06-08</td>\n",
       "      <td>9.653998</td>\n",
       "      <td>-49.456814</td>\n",
       "    </tr>\n",
       "    <tr>\n",
       "      <th>250</th>\n",
       "      <td>1998-06-09</td>\n",
       "      <td>9.652131</td>\n",
       "      <td>-49.642100</td>\n",
       "    </tr>\n",
       "    <tr>\n",
       "      <th>251</th>\n",
       "      <td>1998-06-10</td>\n",
       "      <td>9.651998</td>\n",
       "      <td>-49.820766</td>\n",
       "    </tr>\n",
       "    <tr>\n",
       "      <th>252</th>\n",
       "      <td>1998-06-10</td>\n",
       "      <td>9.651998</td>\n",
       "      <td>-49.820766</td>\n",
       "    </tr>\n",
       "  </tbody>\n",
       "</table>\n",
       "<p>2967450 rows × 3 columns</p>\n",
       "</div>"
      ],
      "text/plain": [
       "               time   latitude  longitude\n",
       "traj obs                                 \n",
       "0    0   1997-08-14  16.030224 -22.692162\n",
       "     1   1997-08-15  16.017056 -22.714727\n",
       "     2   1997-08-16  15.994600 -22.739052\n",
       "     3   1997-08-17  15.954251 -22.766460\n",
       "     4   1997-08-18  15.938750 -22.811235\n",
       "...             ...        ...        ...\n",
       "9999 248 1998-06-07   9.679025 -49.273670\n",
       "     249 1998-06-08   9.653998 -49.456814\n",
       "     250 1998-06-09   9.652131 -49.642100\n",
       "     251 1998-06-10   9.651998 -49.820766\n",
       "     252 1998-06-10   9.651998 -49.820766\n",
       "\n",
       "[2967450 rows x 3 columns]"
      ]
     },
     "metadata": {},
     "output_type": "display_data"
    }
   ],
   "source": [
    "raw_data = load_cape_verde_trajectories(year=year)\n",
    "\n",
    "display(raw_data)"
   ]
  },
  {
   "cell_type": "code",
   "execution_count": 28,
   "id": "3f66a458-8b4d-4de0-bf60-d0df2296556c",
   "metadata": {},
   "outputs": [
    {
     "data": {
      "text/html": [
       "<div>\n",
       "<style scoped>\n",
       "    .dataframe tbody tr th:only-of-type {\n",
       "        vertical-align: middle;\n",
       "    }\n",
       "\n",
       "    .dataframe tbody tr th {\n",
       "        vertical-align: top;\n",
       "    }\n",
       "\n",
       "    .dataframe thead th {\n",
       "        text-align: right;\n",
       "    }\n",
       "</style>\n",
       "<table border=\"1\" class=\"dataframe\">\n",
       "  <thead>\n",
       "    <tr style=\"text-align: right;\">\n",
       "      <th></th>\n",
       "      <th></th>\n",
       "      <th>time</th>\n",
       "      <th>latitude</th>\n",
       "      <th>longitude</th>\n",
       "    </tr>\n",
       "    <tr>\n",
       "      <th>traj</th>\n",
       "      <th>obs</th>\n",
       "      <th></th>\n",
       "      <th></th>\n",
       "      <th></th>\n",
       "    </tr>\n",
       "  </thead>\n",
       "  <tbody>\n",
       "    <tr>\n",
       "      <th rowspan=\"5\" valign=\"top\">67</th>\n",
       "      <th>0</th>\n",
       "      <td>1997-08-31</td>\n",
       "      <td>16.031120</td>\n",
       "      <td>-22.691238</td>\n",
       "    </tr>\n",
       "    <tr>\n",
       "      <th>1</th>\n",
       "      <td>1997-09-01</td>\n",
       "      <td>16.023859</td>\n",
       "      <td>-22.708342</td>\n",
       "    </tr>\n",
       "    <tr>\n",
       "      <th>2</th>\n",
       "      <td>1997-09-02</td>\n",
       "      <td>15.991339</td>\n",
       "      <td>-22.745426</td>\n",
       "    </tr>\n",
       "    <tr>\n",
       "      <th>3</th>\n",
       "      <td>1997-09-03</td>\n",
       "      <td>15.961082</td>\n",
       "      <td>-22.793324</td>\n",
       "    </tr>\n",
       "    <tr>\n",
       "      <th>4</th>\n",
       "      <td>1997-09-04</td>\n",
       "      <td>15.944976</td>\n",
       "      <td>-22.829826</td>\n",
       "    </tr>\n",
       "    <tr>\n",
       "      <th>...</th>\n",
       "      <th>...</th>\n",
       "      <td>...</td>\n",
       "      <td>...</td>\n",
       "      <td>...</td>\n",
       "    </tr>\n",
       "    <tr>\n",
       "      <th rowspan=\"5\" valign=\"top\">992</th>\n",
       "      <th>282</th>\n",
       "      <td>1998-06-23</td>\n",
       "      <td>9.812095</td>\n",
       "      <td>-49.508453</td>\n",
       "    </tr>\n",
       "    <tr>\n",
       "      <th>283</th>\n",
       "      <td>1998-06-24</td>\n",
       "      <td>9.704523</td>\n",
       "      <td>-49.636528</td>\n",
       "    </tr>\n",
       "    <tr>\n",
       "      <th>284</th>\n",
       "      <td>1998-06-25</td>\n",
       "      <td>9.600889</td>\n",
       "      <td>-49.762030</td>\n",
       "    </tr>\n",
       "    <tr>\n",
       "      <th>285</th>\n",
       "      <td>1998-06-26</td>\n",
       "      <td>9.512796</td>\n",
       "      <td>-49.886562</td>\n",
       "    </tr>\n",
       "    <tr>\n",
       "      <th>286</th>\n",
       "      <td>1998-06-26</td>\n",
       "      <td>9.512796</td>\n",
       "      <td>-49.886562</td>\n",
       "    </tr>\n",
       "  </tbody>\n",
       "</table>\n",
       "<p>1398 rows × 3 columns</p>\n",
       "</div>"
      ],
      "text/plain": [
       "               time   latitude  longitude\n",
       "traj obs                                 \n",
       "67   0   1997-08-31  16.031120 -22.691238\n",
       "     1   1997-09-01  16.023859 -22.708342\n",
       "     2   1997-09-02  15.991339 -22.745426\n",
       "     3   1997-09-03  15.961082 -22.793324\n",
       "     4   1997-09-04  15.944976 -22.829826\n",
       "...             ...        ...        ...\n",
       "992  282 1998-06-23   9.812095 -49.508453\n",
       "     283 1998-06-24   9.704523 -49.636528\n",
       "     284 1998-06-25   9.600889 -49.762030\n",
       "     285 1998-06-26   9.512796 -49.886562\n",
       "     286 1998-06-26   9.512796 -49.886562\n",
       "\n",
       "[1398 rows x 3 columns]"
      ]
     },
     "execution_count": 28,
     "metadata": {},
     "output_type": "execute_result"
    }
   ],
   "source": [
    "ref_trajs = raw_data.loc[cluster_ref_traj]\n",
    "ref_trajs"
   ]
  },
  {
   "cell_type": "code",
   "execution_count": 33,
   "id": "6c1407c3-0e3e-4239-84d0-5bd6edef18f5",
   "metadata": {},
   "outputs": [],
   "source": [
    "from matplotlib import pyplot as plt"
   ]
  },
  {
   "cell_type": "code",
   "execution_count": 43,
   "id": "45aae7a8-0926-438e-8ca9-fc47b5748262",
   "metadata": {},
   "outputs": [
    {
     "name": "stdout",
     "output_type": "stream",
     "text": [
      "CPU times: user 169 ms, sys: 67.2 ms, total: 236 ms\n",
      "Wall time: 178 ms\n"
     ]
    },
    {
     "data": {
      "text/plain": [
       "traj\n",
       "56     AxesSubplot(0.125,0.125;0.775x0.755)\n",
       "67     AxesSubplot(0.125,0.125;0.775x0.755)\n",
       "275    AxesSubplot(0.125,0.125;0.775x0.755)\n",
       "783    AxesSubplot(0.125,0.125;0.775x0.755)\n",
       "992    AxesSubplot(0.125,0.125;0.775x0.755)\n",
       "dtype: object"
      ]
     },
     "execution_count": 43,
     "metadata": {},
     "output_type": "execute_result"
    },
    {
     "data": {
      "image/png": "[encoded data removed]",
      "text/plain": [
       "<Figure size 432x288 with 1 Axes>"
      ]
     },
     "metadata": {
      "needs_background": "light"
     },
     "output_type": "display_data"
    }
   ],
   "source": [
    "%%time\n",
    "\n",
    "fig, ax = plt.subplots(1, 1)\n",
    "\n",
    "raw_data.plot.scatter(x=\"longitude\", y=\"latitude\", s=1, alpha=0.01, color=\"black\", ax=ax)\n",
    "ref_trajs.groupby(\"traj\").plot.line(x=\"longitude\", y=\"latitude\", ax=ax, legend=False);"
   ]
  },
  {
   "cell_type": "code",
   "execution_count": 44,
   "id": "f28d40d9-72b8-4914-86d4-933aa45b9098",
   "metadata": {},
   "outputs": [],
   "source": [
    "from lagrangian_trajectory_clustering.trafo.grid import (\n",
    "    geo_df_to_grid_series,  # lat lon coords to grid index\n",
    "    grid_series_to_geo_df,  # grid index to lat lon coords\n",
    ")\n",
    "\n",
    "from lagrangian_trajectory_clustering.trafo.sequence import (\n",
    "    remove_subsequent_identical_elements,  # transorm to sequence of unique subsequent elemets\n",
    "    multi_index_series_to_series_sequences,  # transform to series of sequences\n",
    "    series_sequences_to_multi_index_series,  # transform back from series of sequences\n",
    "    fill_in_segments,  # fill in jumps leaping over grid boxes\n",
    ")"
   ]
  },
  {
   "cell_type": "code",
   "execution_count": 45,
   "id": "07e50907-bb47-43a5-9a78-d91215a54565",
   "metadata": {},
   "outputs": [],
   "source": [
    "lat_lon_res = 14"
   ]
  },
  {
   "cell_type": "code",
   "execution_count": 46,
   "id": "8cfa2d82-8d45-4533-8d7f-9e266c2caaf7",
   "metadata": {},
   "outputs": [
    {
     "name": "stdout",
     "output_type": "stream",
     "text": [
      "115 170\n"
     ]
    }
   ],
   "source": [
    "lat_num = int(180 // (abs(raw_data.latitude.max() - raw_data.latitude.min()) / lat_lon_res) + 1)\n",
    "lon_num = int(360 // (abs(raw_data.longitude.max() - raw_data.longitude.min()) / lat_lon_res) + 1)\n",
    "print(lon_num, lat_num)"
   ]
  },
  {
   "cell_type": "code",
   "execution_count": 48,
   "id": "652f6076-8a75-43b4-b6b6-d73e4c69841e",
   "metadata": {},
   "outputs": [
    {
     "name": "stderr",
     "output_type": "stream",
     "text": [
      "/opt/conda/lib/python3.10/site-packages/pandas/core/algorithms.py:798: FutureWarning: In a future version, the Index constructor will not infer numeric dtypes when passed object-dtype sequences (matching Series behavior)\n",
      "  uniques = Index(uniques)\n"
     ]
    },
    {
     "data": {
      "text/html": [
       "<div>\n",
       "<style scoped>\n",
       "    .dataframe tbody tr th:only-of-type {\n",
       "        vertical-align: middle;\n",
       "    }\n",
       "\n",
       "    .dataframe tbody tr th {\n",
       "        vertical-align: top;\n",
       "    }\n",
       "\n",
       "    .dataframe thead th {\n",
       "        text-align: right;\n",
       "    }\n",
       "</style>\n",
       "<table border=\"1\" class=\"dataframe\">\n",
       "  <thead>\n",
       "    <tr style=\"text-align: right;\">\n",
       "      <th></th>\n",
       "      <th></th>\n",
       "      <th>longitude</th>\n",
       "      <th>latitude</th>\n",
       "    </tr>\n",
       "    <tr>\n",
       "      <th>traj</th>\n",
       "      <th>obs</th>\n",
       "      <th></th>\n",
       "      <th></th>\n",
       "    </tr>\n",
       "  </thead>\n",
       "  <tbody>\n",
       "    <tr>\n",
       "      <th rowspan=\"5\" valign=\"top\">0</th>\n",
       "      <th>0</th>\n",
       "      <td>336.315789</td>\n",
       "      <td>15.976331</td>\n",
       "    </tr>\n",
       "    <tr>\n",
       "      <th>1</th>\n",
       "      <td>336.315789</td>\n",
       "      <td>14.911243</td>\n",
       "    </tr>\n",
       "    <tr>\n",
       "      <th>2</th>\n",
       "      <td>336.315789</td>\n",
       "      <td>13.846154</td>\n",
       "    </tr>\n",
       "    <tr>\n",
       "      <th>3</th>\n",
       "      <td>333.157895</td>\n",
       "      <td>13.846154</td>\n",
       "    </tr>\n",
       "    <tr>\n",
       "      <th>4</th>\n",
       "      <td>333.157895</td>\n",
       "      <td>14.911243</td>\n",
       "    </tr>\n",
       "    <tr>\n",
       "      <th>...</th>\n",
       "      <th>...</th>\n",
       "      <td>...</td>\n",
       "      <td>...</td>\n",
       "    </tr>\n",
       "    <tr>\n",
       "      <th rowspan=\"5\" valign=\"top\">9999</th>\n",
       "      <th>10</th>\n",
       "      <td>320.526316</td>\n",
       "      <td>10.650888</td>\n",
       "    </tr>\n",
       "    <tr>\n",
       "      <th>11</th>\n",
       "      <td>317.368421</td>\n",
       "      <td>10.650888</td>\n",
       "    </tr>\n",
       "    <tr>\n",
       "      <th>12</th>\n",
       "      <td>314.210526</td>\n",
       "      <td>10.650888</td>\n",
       "    </tr>\n",
       "    <tr>\n",
       "      <th>13</th>\n",
       "      <td>311.052632</td>\n",
       "      <td>10.650888</td>\n",
       "    </tr>\n",
       "    <tr>\n",
       "      <th>14</th>\n",
       "      <td>311.052632</td>\n",
       "      <td>9.585799</td>\n",
       "    </tr>\n",
       "  </tbody>\n",
       "</table>\n",
       "<p>187168 rows × 2 columns</p>\n",
       "</div>"
      ],
      "text/plain": [
       "           longitude   latitude\n",
       "traj obs                       \n",
       "0    0    336.315789  15.976331\n",
       "     1    336.315789  14.911243\n",
       "     2    336.315789  13.846154\n",
       "     3    333.157895  13.846154\n",
       "     4    333.157895  14.911243\n",
       "...              ...        ...\n",
       "9999 10   320.526316  10.650888\n",
       "     11   317.368421  10.650888\n",
       "     12   314.210526  10.650888\n",
       "     13   311.052632  10.650888\n",
       "     14   311.052632   9.585799\n",
       "\n",
       "[187168 rows x 2 columns]"
      ]
     },
     "metadata": {},
     "output_type": "display_data"
    },
    {
     "name": "stdout",
     "output_type": "stream",
     "text": [
      "CPU times: user 7.48 s, sys: 149 ms, total: 7.63 s\n",
      "Wall time: 7.63 s\n"
     ]
    }
   ],
   "source": [
    "%%time\n",
    "\n",
    "raw_data_roundtrip = grid_series_to_geo_df(\n",
    "    series_sequences_to_multi_index_series(\n",
    "        fill_in_segments(\n",
    "            remove_subsequent_identical_elements(\n",
    "                multi_index_series_to_series_sequences(\n",
    "                    geo_df_to_grid_series(\n",
    "                        raw_data,\n",
    "                        lon_num=lon_num,\n",
    "                        lat_num=lat_num,\n",
    "                    )\n",
    "                )\n",
    "            )\n",
    "        )\n",
    "    ),\n",
    "    lon_num=lon_num,\n",
    "    lat_num=lat_num,\n",
    ")\n",
    "\n",
    "display(raw_data_roundtrip)"
   ]
  },
  {
   "cell_type": "code",
   "execution_count": 49,
   "id": "25c2890c-2f46-4524-a6ea-5cdb045052bf",
   "metadata": {},
   "outputs": [
    {
     "data": {
      "text/plain": [
       "traj\n",
       "0       [(106, 99), (106, 98), (106, 97), (105, 97), (...\n",
       "1       [(106, 99), (106, 98), (106, 97), (105, 97), (...\n",
       "2       [(106, 99), (106, 98), (105, 98), (105, 97), (...\n",
       "3       [(106, 99), (106, 98), (105, 98), (105, 97), (...\n",
       "4       [(106, 99), (106, 98), (105, 98), (104, 98), (...\n",
       "                              ...                        \n",
       "9995    [(106, 99), (106, 98), (106, 97), (105, 97), (...\n",
       "9996    [(106, 99), (106, 98), (106, 97), (105, 97), (...\n",
       "9997    [(106, 99), (106, 98), (106, 97), (105, 97), (...\n",
       "9998    [(106, 99), (106, 98), (106, 97), (105, 97), (...\n",
       "9999    [(106, 99), (106, 98), (106, 97), (105, 97), (...\n",
       "Name: grid_index_lon_lat, Length: 10000, dtype: object"
      ]
     },
     "metadata": {},
     "output_type": "display_data"
    }
   ],
   "source": [
    "sequential_data = fill_in_segments(\n",
    "    remove_subsequent_identical_elements(\n",
    "        multi_index_series_to_series_sequences(\n",
    "            geo_df_to_grid_series(\n",
    "                raw_data,\n",
    "                lon_num=lon_num,\n",
    "                lat_num=lat_num,\n",
    "            )\n",
    "        )\n",
    "    )\n",
    ")\n",
    "\n",
    "display(sequential_data)"
   ]
  },
  {
   "cell_type": "code",
   "execution_count": 52,
   "id": "4fa60b06-0516-4aba-a2c8-0c169da9ab4c",
   "metadata": {},
   "outputs": [
    {
     "data": {
      "image/png": "[encoded data removed]",
      "text/plain": [
       "<Figure size 432x288 with 1 Axes>"
      ]
     },
     "metadata": {
      "needs_background": "light"
     },
     "output_type": "display_data"
    }
   ],
   "source": [
    "ax = sequential_data.apply(len).apply(lambda l: int(round(2 * l, -1) / 2)).value_counts().sort_index().plot.bar();\n",
    "ax.grid()\n",
    "ax.set_xlabel(\"traj length\")\n",
    "ax.set_ylabel(\"count\");"
   ]
  },
  {
   "cell_type": "code",
   "execution_count": 53,
   "id": "c3237c1a-e6ac-4cd6-b562-3a8c75e95f0f",
   "metadata": {},
   "outputs": [
    {
     "data": {
      "text/plain": [
       "count    10000.000000\n",
       "mean        18.716800\n",
       "std          8.708971\n",
       "min         11.000000\n",
       "25%         15.000000\n",
       "50%         16.000000\n",
       "75%         18.000000\n",
       "max         82.000000\n",
       "Name: grid_index_lon_lat, dtype: float64"
      ]
     },
     "execution_count": 53,
     "metadata": {},
     "output_type": "execute_result"
    }
   ],
   "source": [
    "sequential_data.apply(len).describe()"
   ]
  },
  {
   "cell_type": "code",
   "execution_count": 55,
   "id": "dd2e0da7-2fe5-4e6e-bd6f-1553d9fc857b",
   "metadata": {},
   "outputs": [
    {
     "data": {
      "text/plain": [
       "traj\n",
       "67     [(106, 99), (106, 98), (106, 97), (105, 97), (...\n",
       "275    [(106, 99), (106, 98), (105, 98), (104, 98), (...\n",
       "56     [(106, 99), (106, 98), (106, 97), (105, 97), (...\n",
       "783    [(106, 99), (106, 98), (105, 98), (106, 98), (...\n",
       "992    [(106, 99), (106, 98), (106, 97), (105, 97), (...\n",
       "Name: grid_index_lon_lat, dtype: object"
      ]
     },
     "execution_count": 55,
     "metadata": {},
     "output_type": "execute_result"
    }
   ],
   "source": [
    "sequential_data_refs = sequential_data[cluster_ref_traj]\n",
    "sequential_data_refs"
   ]
  },
  {
   "cell_type": "code",
   "execution_count": 57,
   "id": "b56e2015-e579-4da7-a5d5-6ef1019e0d72",
   "metadata": {},
   "outputs": [],
   "source": [
    "from lagrangian_trajectory_clustering.metrics import levenshtein_numpy_numba, lcs_numpy_numba\n",
    "from lagrangian_trajectory_clustering.metrics_wrapped import wrapped_metric"
   ]
  },
  {
   "cell_type": "code",
   "execution_count": 56,
   "id": "41fe3ea9-2548-477f-85ab-dcbd64e618b6",
   "metadata": {},
   "outputs": [],
   "source": [
    "import numpy as np"
   ]
  },
  {
   "cell_type": "code",
   "execution_count": 58,
   "id": "eb68fa89-5455-4864-8b01-701e84b1013e",
   "metadata": {},
   "outputs": [],
   "source": [
    "lcs_dist = lambda s0, s1: min(len(s0), len(s1)) / lcs_numpy_numba(s0, s1) - 1"
   ]
  },
  {
   "cell_type": "code",
   "execution_count": 60,
   "id": "9dd6539a-1bb2-4eed-baf3-e15aa07a4344",
   "metadata": {},
   "outputs": [
    {
     "name": "stdout",
     "output_type": "stream",
     "text": [
      "CPU times: user 27.5 s, sys: 36.6 ms, total: 27.6 s\n",
      "Wall time: 27.6 s\n"
     ]
    }
   ],
   "source": [
    "%%time\n",
    "\n",
    "dist_matrix = np.array(\n",
    "    [\n",
    "        sequential_data.apply(lambda s: lcs_dist(s, sequential_data_refs.iloc[n]))\n",
    "        for n in range(len(sequential_data_refs))\n",
    "    ]\n",
    ")"
   ]
  },
  {
   "cell_type": "code",
   "execution_count": 61,
   "id": "6e1224bf-3d26-4582-b2e0-4768546cae03",
   "metadata": {},
   "outputs": [
    {
     "data": {
      "text/plain": [
       "(5, 10000)"
      ]
     },
     "execution_count": 61,
     "metadata": {},
     "output_type": "execute_result"
    }
   ],
   "source": [
    "dist_matrix.shape"
   ]
  },
  {
   "cell_type": "code",
   "execution_count": 70,
   "id": "586165a5-3edb-4273-9157-204d8ba89344",
   "metadata": {},
   "outputs": [
    {
     "data": {
      "image/png": "[encoded data removed]",
      "text/plain": [
       "<Figure size 432x288 with 5 Axes>"
      ]
     },
     "metadata": {
      "needs_background": "light"
     },
     "output_type": "display_data"
    }
   ],
   "source": [
    "pd.DataFrame(dist_matrix.T, columns=cluster_ref_traj.index, index=sequential_data.index).plot(subplots=True);"
   ]
  },
  {
   "cell_type": "code",
   "execution_count": 79,
   "id": "601e6243-cab8-496a-bda0-f344eb0de10a",
   "metadata": {},
   "outputs": [
    {
     "data": {
      "text/plain": [
       "traj\n",
       "0       0\n",
       "1       0\n",
       "2       0\n",
       "3       1\n",
       "4       0\n",
       "       ..\n",
       "9995    2\n",
       "9996    2\n",
       "9997    2\n",
       "9998    2\n",
       "9999    2\n",
       "Name: label, Length: 10000, dtype: int64"
      ]
     },
     "metadata": {},
     "output_type": "display_data"
    },
    {
     "data": {
      "text/plain": [
       "<AxesSubplot:ylabel='Frequency'>"
      ]
     },
     "execution_count": 79,
     "metadata": {},
     "output_type": "execute_result"
    },
    {
     "data": {
      "image/png": "[encoded data removed]",
      "text/plain": [
       "<Figure size 432x288 with 1 Axes>"
      ]
     },
     "metadata": {
      "needs_background": "light"
     },
     "output_type": "display_data"
    }
   ],
   "source": [
    "label = pd.Series(cluster_ref_traj.index[dist_matrix.argmin(axis=0)], index=sequential_data.index, name=\"label\")\n",
    "display(label)\n",
    "label.plot.hist()"
   ]
  },
  {
   "cell_type": "code",
   "execution_count": 83,
   "id": "21371276-1a25-4415-8f48-e97528a8eac0",
   "metadata": {},
   "outputs": [
    {
     "data": {
      "text/html": [
       "<div>\n",
       "<style scoped>\n",
       "    .dataframe tbody tr th:only-of-type {\n",
       "        vertical-align: middle;\n",
       "    }\n",
       "\n",
       "    .dataframe tbody tr th {\n",
       "        vertical-align: top;\n",
       "    }\n",
       "\n",
       "    .dataframe thead th {\n",
       "        text-align: right;\n",
       "    }\n",
       "</style>\n",
       "<table border=\"1\" class=\"dataframe\">\n",
       "  <thead>\n",
       "    <tr style=\"text-align: right;\">\n",
       "      <th></th>\n",
       "      <th></th>\n",
       "      <th></th>\n",
       "      <th>time</th>\n",
       "      <th>latitude</th>\n",
       "      <th>longitude</th>\n",
       "    </tr>\n",
       "    <tr>\n",
       "      <th>label</th>\n",
       "      <th>traj</th>\n",
       "      <th>obs</th>\n",
       "      <th></th>\n",
       "      <th></th>\n",
       "      <th></th>\n",
       "    </tr>\n",
       "  </thead>\n",
       "  <tbody>\n",
       "    <tr>\n",
       "      <th rowspan=\"5\" valign=\"top\">0</th>\n",
       "      <th rowspan=\"5\" valign=\"top\">0</th>\n",
       "      <th>0</th>\n",
       "      <td>1997-08-14</td>\n",
       "      <td>16.030224</td>\n",
       "      <td>-22.692162</td>\n",
       "    </tr>\n",
       "    <tr>\n",
       "      <th>1</th>\n",
       "      <td>1997-08-15</td>\n",
       "      <td>16.017056</td>\n",
       "      <td>-22.714727</td>\n",
       "    </tr>\n",
       "    <tr>\n",
       "      <th>2</th>\n",
       "      <td>1997-08-16</td>\n",
       "      <td>15.994600</td>\n",
       "      <td>-22.739052</td>\n",
       "    </tr>\n",
       "    <tr>\n",
       "      <th>3</th>\n",
       "      <td>1997-08-17</td>\n",
       "      <td>15.954251</td>\n",
       "      <td>-22.766460</td>\n",
       "    </tr>\n",
       "    <tr>\n",
       "      <th>4</th>\n",
       "      <td>1997-08-18</td>\n",
       "      <td>15.938750</td>\n",
       "      <td>-22.811235</td>\n",
       "    </tr>\n",
       "    <tr>\n",
       "      <th>...</th>\n",
       "      <th>...</th>\n",
       "      <th>...</th>\n",
       "      <td>...</td>\n",
       "      <td>...</td>\n",
       "      <td>...</td>\n",
       "    </tr>\n",
       "    <tr>\n",
       "      <th rowspan=\"5\" valign=\"top\">2</th>\n",
       "      <th rowspan=\"5\" valign=\"top\">9999</th>\n",
       "      <th>248</th>\n",
       "      <td>1998-06-07</td>\n",
       "      <td>9.679025</td>\n",
       "      <td>-49.273670</td>\n",
       "    </tr>\n",
       "    <tr>\n",
       "      <th>249</th>\n",
       "      <td>1998-06-08</td>\n",
       "      <td>9.653998</td>\n",
       "      <td>-49.456814</td>\n",
       "    </tr>\n",
       "    <tr>\n",
       "      <th>250</th>\n",
       "      <td>1998-06-09</td>\n",
       "      <td>9.652131</td>\n",
       "      <td>-49.642100</td>\n",
       "    </tr>\n",
       "    <tr>\n",
       "      <th>251</th>\n",
       "      <td>1998-06-10</td>\n",
       "      <td>9.651998</td>\n",
       "      <td>-49.820766</td>\n",
       "    </tr>\n",
       "    <tr>\n",
       "      <th>252</th>\n",
       "      <td>1998-06-10</td>\n",
       "      <td>9.651998</td>\n",
       "      <td>-49.820766</td>\n",
       "    </tr>\n",
       "  </tbody>\n",
       "</table>\n",
       "<p>2967450 rows × 3 columns</p>\n",
       "</div>"
      ],
      "text/plain": [
       "                     time   latitude  longitude\n",
       "label traj obs                                 \n",
       "0     0    0   1997-08-14  16.030224 -22.692162\n",
       "           1   1997-08-15  16.017056 -22.714727\n",
       "           2   1997-08-16  15.994600 -22.739052\n",
       "           3   1997-08-17  15.954251 -22.766460\n",
       "           4   1997-08-18  15.938750 -22.811235\n",
       "...                   ...        ...        ...\n",
       "2     9999 248 1998-06-07   9.679025 -49.273670\n",
       "           249 1998-06-08   9.653998 -49.456814\n",
       "           250 1998-06-09   9.652131 -49.642100\n",
       "           251 1998-06-10   9.651998 -49.820766\n",
       "           252 1998-06-10   9.651998 -49.820766\n",
       "\n",
       "[2967450 rows x 3 columns]"
      ]
     },
     "execution_count": 83,
     "metadata": {},
     "output_type": "execute_result"
    }
   ],
   "source": [
    "labeled_data = raw_data.join(label).reset_index().set_index([\"label\", \"traj\", \"obs\"])\n",
    "labeled_data"
   ]
  },
  {
   "cell_type": "code",
   "execution_count": 90,
   "id": "65a628d2-5a8c-4448-b8a3-8167460d32d5",
   "metadata": {},
   "outputs": [
    {
     "name": "stdout",
     "output_type": "stream",
     "text": [
      "CPU times: user 294 ms, sys: 96.1 ms, total: 390 ms\n",
      "Wall time: 300 ms\n"
     ]
    },
    {
     "data": {
      "image/png": "[encoded data removed]",
      "text/plain": [
       "<Figure size 504x720 with 5 Axes>"
      ]
     },
     "metadata": {
      "needs_background": "light"
     },
     "output_type": "display_data"
    }
   ],
   "source": [
    "%%time\n",
    "\n",
    "fig, ax = plt.subplots(\n",
    "    len(sequential_data_refs), 1,\n",
    "    figsize=(7, len(sequential_data_refs) * 2),\n",
    "    sharex=True, sharey=True,\n",
    ")\n",
    "ax = ax.flatten()\n",
    "\n",
    "for lab, _ax in zip(label.unique(), ax):\n",
    "\n",
    "    labeled_data.loc[lab].plot.scatter(x=\"longitude\", y=\"latitude\", s=2, alpha=0.1, color=\"orange\", ax=_ax);"
   ]
  },
  {
   "cell_type": "code",
   "execution_count": null,
   "id": "094947c3-9669-4b43-84d7-474127159742",
   "metadata": {},
   "outputs": [],
   "source": []
  }
 ],
 "metadata": {
  "kernelspec": {
   "display_name": "Python 3 (ipykernel)",
   "language": "python",
   "name": "python3"
  },
  "language_info": {
   "codemirror_mode": {
    "name": "ipython",
    "version": 3
   },
   "file_extension": ".py",
   "mimetype": "text/x-python",
   "name": "python",
   "nbconvert_exporter": "python",
   "pygments_lexer": "ipython3",
   "version": "3.10.4"
  }
 },
 "nbformat": 4,
 "nbformat_minor": 5
}
