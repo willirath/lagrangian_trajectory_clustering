{
 "cells": [
  {
   "cell_type": "markdown",
   "metadata": {},
   "source": [
    "# Discretization and clustering\n",
    "\n",
    "We'll discretize trajectories using the [H3 library](https://uber.github.io/h3-py/intro.html) and then use a metric that is designed to compare discrete sequences (like strings) in the clustering."
   ]
  },
  {
   "cell_type": "markdown",
   "metadata": {},
   "source": [
    "## Get data\n",
    "\n",
    "We'll download one file from https://zenodo.org/record/4650317.\n",
    "This only needs to be executed once."
   ]
  },
  {
   "cell_type": "code",
   "execution_count": 1,
   "metadata": {},
   "outputs": [],
   "source": [
    "# !mkdir -p data/\n",
    "# !curl \\\n",
    "#     -o data/trajectories_stokes_subset_10000.csv.gz \\\n",
    "#     https://zenodo.org/record/4650317/files/trajectories_stokes_subset_10000.csv.gz\n",
    "# !gunzip -f -v data/trajectories_stokes_subset_10000.csv.gz"
   ]
  },
  {
   "cell_type": "markdown",
   "metadata": {},
   "source": [
    "## Prepare env"
   ]
  },
  {
   "cell_type": "code",
   "execution_count": 2,
   "metadata": {},
   "outputs": [],
   "source": [
    "import numpy as np\n",
    "import pandas as pd"
   ]
  },
  {
   "cell_type": "markdown",
   "metadata": {},
   "source": [
    "## Parameters"
   ]
  },
  {
   "cell_type": "code",
   "execution_count": 3,
   "metadata": {},
   "outputs": [],
   "source": [
    "num_traj = 600\n",
    "random_trajs = False\n",
    "h3_resolution = 6  # approx 3000m\n",
    "h3_number_cutoff = 25  # approx 75km\n",
    "random_seed = 12345"
   ]
  },
  {
   "cell_type": "code",
   "execution_count": 4,
   "metadata": {},
   "outputs": [],
   "source": [
    "np.random.seed(random_seed)  # reproducibility!"
   ]
  },
  {
   "cell_type": "markdown",
   "metadata": {},
   "source": [
    "## Load data and extract a few trajectories"
   ]
  },
  {
   "cell_type": "code",
   "execution_count": 5,
   "metadata": {},
   "outputs": [],
   "source": [
    "def load_and_subset_trajectories(\n",
    "    file_name, num_traj=300, use_random=False\n",
    "):\n",
    "    \"\"\"Load data file and extract a number of trajectories.\n",
    "    \n",
    "    Parameters\n",
    "    ----------\n",
    "    file_name: str or Path\n",
    "        File to open.\n",
    "    num_traj: int\n",
    "        Number of trajectories to load\n",
    "    use_random: book\n",
    "        If true, choose num_traj trajectories at random.\n",
    "        If false, choose first num_traj trajectories.\n",
    "    \n",
    "    Returns\n",
    "    -------\n",
    "    pandas.DataFrame\n",
    "        Trajectorie\n",
    "\n",
    "    \"\"\"\n",
    "\n",
    "    df = pd.read_csv(file_name)\n",
    "\n",
    "    # the whole dataset is too big to open here.\n",
    "    if use_random:\n",
    "        # Let's subset to fewer random trajectories:\n",
    "        random_trajs = np.random.choice(\n",
    "            np.unique(df[\"traj\"]), num_traj, replace=False\n",
    "        )\n",
    "        traj_mask = df[\"traj\"].apply(lambda x: x in random_trajs)\n",
    "    else:\n",
    "        # Let's use the first N trajectories\n",
    "        first_n_trajs = np.unique(df[\"traj\"])[:num_traj]\n",
    "        traj_mask = df[\"traj\"].apply(lambda x: x in first_n_trajs)\n",
    "    \n",
    "    df = df[traj_mask]\n",
    "    \n",
    "    return df"
   ]
  },
  {
   "cell_type": "code",
   "execution_count": 6,
   "metadata": {},
   "outputs": [
    {
     "data": {
      "text/html": [
       "<div>\n",
       "<style scoped>\n",
       "    .dataframe tbody tr th:only-of-type {\n",
       "        vertical-align: middle;\n",
       "    }\n",
       "\n",
       "    .dataframe tbody tr th {\n",
       "        vertical-align: top;\n",
       "    }\n",
       "\n",
       "    .dataframe thead th {\n",
       "        text-align: right;\n",
       "    }\n",
       "</style>\n",
       "<table border=\"1\" class=\"dataframe\">\n",
       "  <thead>\n",
       "    <tr style=\"text-align: right;\">\n",
       "      <th></th>\n",
       "      <th></th>\n",
       "      <th>lat</th>\n",
       "      <th>lon</th>\n",
       "    </tr>\n",
       "    <tr>\n",
       "      <th>traj</th>\n",
       "      <th>obs</th>\n",
       "      <th></th>\n",
       "      <th></th>\n",
       "    </tr>\n",
       "  </thead>\n",
       "  <tbody>\n",
       "    <tr>\n",
       "      <th rowspan=\"5\" valign=\"top\">0</th>\n",
       "      <th>0</th>\n",
       "      <td>43.288517</td>\n",
       "      <td>5.171321</td>\n",
       "    </tr>\n",
       "    <tr>\n",
       "      <th>1</th>\n",
       "      <td>43.285854</td>\n",
       "      <td>5.181101</td>\n",
       "    </tr>\n",
       "    <tr>\n",
       "      <th>2</th>\n",
       "      <td>43.283524</td>\n",
       "      <td>5.190491</td>\n",
       "    </tr>\n",
       "    <tr>\n",
       "      <th>3</th>\n",
       "      <td>43.281498</td>\n",
       "      <td>5.199454</td>\n",
       "    </tr>\n",
       "    <tr>\n",
       "      <th>4</th>\n",
       "      <td>43.279760</td>\n",
       "      <td>5.208031</td>\n",
       "    </tr>\n",
       "    <tr>\n",
       "      <th>...</th>\n",
       "      <th>...</th>\n",
       "      <td>...</td>\n",
       "      <td>...</td>\n",
       "    </tr>\n",
       "    <tr>\n",
       "      <th rowspan=\"5\" valign=\"top\">599</th>\n",
       "      <th>957</th>\n",
       "      <td>40.695263</td>\n",
       "      <td>5.380426</td>\n",
       "    </tr>\n",
       "    <tr>\n",
       "      <th>958</th>\n",
       "      <td>40.693634</td>\n",
       "      <td>5.382443</td>\n",
       "    </tr>\n",
       "    <tr>\n",
       "      <th>959</th>\n",
       "      <td>40.692062</td>\n",
       "      <td>5.384488</td>\n",
       "    </tr>\n",
       "    <tr>\n",
       "      <th>960</th>\n",
       "      <td>40.690550</td>\n",
       "      <td>5.386559</td>\n",
       "    </tr>\n",
       "    <tr>\n",
       "      <th>961</th>\n",
       "      <td>40.690430</td>\n",
       "      <td>5.386733</td>\n",
       "    </tr>\n",
       "  </tbody>\n",
       "</table>\n",
       "<p>577200 rows × 2 columns</p>\n",
       "</div>"
      ],
      "text/plain": [
       "                lat       lon\n",
       "traj obs                     \n",
       "0    0    43.288517  5.171321\n",
       "     1    43.285854  5.181101\n",
       "     2    43.283524  5.190491\n",
       "     3    43.281498  5.199454\n",
       "     4    43.279760  5.208031\n",
       "...             ...       ...\n",
       "599  957  40.695263  5.380426\n",
       "     958  40.693634  5.382443\n",
       "     959  40.692062  5.384488\n",
       "     960  40.690550  5.386559\n",
       "     961  40.690430  5.386733\n",
       "\n",
       "[577200 rows x 2 columns]"
      ]
     },
     "metadata": {},
     "output_type": "display_data"
    }
   ],
   "source": [
    "df = load_and_subset_trajectories(\n",
    "    \"data/trajectories_stokes_subset_10000.csv\",\n",
    "    num_traj=num_traj,\n",
    "    use_random=random_trajs,\n",
    ")\n",
    "\n",
    "df = df[[\"traj\", \"obs\", \"lat\", \"lon\"]]\n",
    "\n",
    "df = df.set_index([\"traj\", \"obs\"])\n",
    "\n",
    "df = df.sort_index(axis=0, level=0)\n",
    "\n",
    "display(df)"
   ]
  },
  {
   "cell_type": "markdown",
   "metadata": {},
   "source": [
    "## Discretize with H3"
   ]
  },
  {
   "cell_type": "code",
   "execution_count": 7,
   "metadata": {},
   "outputs": [],
   "source": [
    "import h3\n",
    "import h3.api.numpy_int\n",
    "import h3.api.basic_str"
   ]
  },
  {
   "cell_type": "code",
   "execution_count": 8,
   "metadata": {},
   "outputs": [],
   "source": [
    "def get_h3_bins(lat=None, lon=None, resolution=8):\n",
    "    \"\"\"Convert series of lat and lon to series of h3s.\n",
    "    \n",
    "    Parameters\n",
    "    ----------\n",
    "    lat: pandas.Series\n",
    "        Series of latitudes.\n",
    "    lon: pandas.Series\n",
    "        Series of longitudes.\n",
    "    resolution: int\n",
    "        H3 resolution. Default to 8 corresponding to approx. 500 meters.\n",
    "        \n",
    "    Returns\n",
    "    -------\n",
    "    pandas.Series\n",
    "        h3s\n",
    "    \n",
    "    \"\"\"\n",
    "    return pd.Series(\n",
    "        data=map(\n",
    "            lambda ll: h3.geo_to_h3(*ll, resolution=resolution),\n",
    "            zip(lat, lon)\n",
    "        ),\n",
    "        index=lat.index\n",
    "    )"
   ]
  },
  {
   "cell_type": "code",
   "execution_count": 9,
   "metadata": {},
   "outputs": [
    {
     "name": "stdout",
     "output_type": "stream",
     "text": [
      "CPU times: user 952 ms, sys: 12.2 ms, total: 965 ms\n",
      "Wall time: 963 ms\n"
     ]
    }
   ],
   "source": [
    "%time df[\"h3\"] = get_h3_bins(df[\"lat\"], df[\"lon\"], resolution=h3_resolution)"
   ]
  },
  {
   "cell_type": "code",
   "execution_count": 10,
   "metadata": {},
   "outputs": [
    {
     "data": {
      "text/html": [
       "<div>\n",
       "<style scoped>\n",
       "    .dataframe tbody tr th:only-of-type {\n",
       "        vertical-align: middle;\n",
       "    }\n",
       "\n",
       "    .dataframe tbody tr th {\n",
       "        vertical-align: top;\n",
       "    }\n",
       "\n",
       "    .dataframe thead th {\n",
       "        text-align: right;\n",
       "    }\n",
       "</style>\n",
       "<table border=\"1\" class=\"dataframe\">\n",
       "  <thead>\n",
       "    <tr style=\"text-align: right;\">\n",
       "      <th></th>\n",
       "      <th></th>\n",
       "      <th>lat</th>\n",
       "      <th>lon</th>\n",
       "      <th>h3</th>\n",
       "    </tr>\n",
       "    <tr>\n",
       "      <th>traj</th>\n",
       "      <th>obs</th>\n",
       "      <th></th>\n",
       "      <th></th>\n",
       "      <th></th>\n",
       "    </tr>\n",
       "  </thead>\n",
       "  <tbody>\n",
       "    <tr>\n",
       "      <th rowspan=\"5\" valign=\"top\">0</th>\n",
       "      <th>0</th>\n",
       "      <td>43.288517</td>\n",
       "      <td>5.171321</td>\n",
       "      <td>863968117ffffff</td>\n",
       "    </tr>\n",
       "    <tr>\n",
       "      <th>1</th>\n",
       "      <td>43.285854</td>\n",
       "      <td>5.181101</td>\n",
       "      <td>863968117ffffff</td>\n",
       "    </tr>\n",
       "    <tr>\n",
       "      <th>2</th>\n",
       "      <td>43.283524</td>\n",
       "      <td>5.190491</td>\n",
       "      <td>863968117ffffff</td>\n",
       "    </tr>\n",
       "    <tr>\n",
       "      <th>3</th>\n",
       "      <td>43.281498</td>\n",
       "      <td>5.199454</td>\n",
       "      <td>863968117ffffff</td>\n",
       "    </tr>\n",
       "    <tr>\n",
       "      <th>4</th>\n",
       "      <td>43.279760</td>\n",
       "      <td>5.208031</td>\n",
       "      <td>863968117ffffff</td>\n",
       "    </tr>\n",
       "    <tr>\n",
       "      <th>...</th>\n",
       "      <th>...</th>\n",
       "      <td>...</td>\n",
       "      <td>...</td>\n",
       "      <td>...</td>\n",
       "    </tr>\n",
       "    <tr>\n",
       "      <th rowspan=\"5\" valign=\"top\">599</th>\n",
       "      <th>957</th>\n",
       "      <td>40.695263</td>\n",
       "      <td>5.380426</td>\n",
       "      <td>86394ea27ffffff</td>\n",
       "    </tr>\n",
       "    <tr>\n",
       "      <th>958</th>\n",
       "      <td>40.693634</td>\n",
       "      <td>5.382443</td>\n",
       "      <td>86394ea27ffffff</td>\n",
       "    </tr>\n",
       "    <tr>\n",
       "      <th>959</th>\n",
       "      <td>40.692062</td>\n",
       "      <td>5.384488</td>\n",
       "      <td>86394ea27ffffff</td>\n",
       "    </tr>\n",
       "    <tr>\n",
       "      <th>960</th>\n",
       "      <td>40.690550</td>\n",
       "      <td>5.386559</td>\n",
       "      <td>86394ea27ffffff</td>\n",
       "    </tr>\n",
       "    <tr>\n",
       "      <th>961</th>\n",
       "      <td>40.690430</td>\n",
       "      <td>5.386733</td>\n",
       "      <td>86394ea27ffffff</td>\n",
       "    </tr>\n",
       "  </tbody>\n",
       "</table>\n",
       "<p>577200 rows × 3 columns</p>\n",
       "</div>"
      ],
      "text/plain": [
       "                lat       lon               h3\n",
       "traj obs                                      \n",
       "0    0    43.288517  5.171321  863968117ffffff\n",
       "     1    43.285854  5.181101  863968117ffffff\n",
       "     2    43.283524  5.190491  863968117ffffff\n",
       "     3    43.281498  5.199454  863968117ffffff\n",
       "     4    43.279760  5.208031  863968117ffffff\n",
       "...             ...       ...              ...\n",
       "599  957  40.695263  5.380426  86394ea27ffffff\n",
       "     958  40.693634  5.382443  86394ea27ffffff\n",
       "     959  40.692062  5.384488  86394ea27ffffff\n",
       "     960  40.690550  5.386559  86394ea27ffffff\n",
       "     961  40.690430  5.386733  86394ea27ffffff\n",
       "\n",
       "[577200 rows x 3 columns]"
      ]
     },
     "execution_count": 10,
     "metadata": {},
     "output_type": "execute_result"
    }
   ],
   "source": [
    "df"
   ]
  },
  {
   "cell_type": "markdown",
   "metadata": {},
   "source": [
    "## How many distinct H3s (at the given resolution) are there in a typical trajectory?"
   ]
  },
  {
   "cell_type": "code",
   "execution_count": 11,
   "metadata": {},
   "outputs": [
    {
     "data": {
      "image/png": "[encoded data removed]",
      "text/plain": [
       "<Figure size 432x288 with 1 Axes>"
      ]
     },
     "metadata": {
      "needs_background": "light"
     },
     "output_type": "display_data"
    }
   ],
   "source": [
    "frac = []\n",
    "for traj in df.index.levels[0]:\n",
    "    frac.append(\n",
    "        len(np.unique(df.loc[traj][\"h3\"]))\n",
    "        / len(df.loc[traj])\n",
    "    )\n",
    "frac = pd.Series(data=frac, index=df.index.levels[0])\n",
    "\n",
    "frac.plot.hist(bins=100);"
   ]
  },
  {
   "cell_type": "markdown",
   "metadata": {},
   "source": [
    "## Visualize polygons"
   ]
  },
  {
   "cell_type": "code",
   "execution_count": 12,
   "metadata": {},
   "outputs": [],
   "source": [
    "from matplotlib import pyplot as plt\n",
    "from shapely.geometry import Polygon\n",
    "import geopandas"
   ]
  },
  {
   "cell_type": "code",
   "execution_count": 13,
   "metadata": {},
   "outputs": [
    {
     "name": "stdout",
     "output_type": "stream",
     "text": [
      "CPU times: user 8.77 s, sys: 112 ms, total: 8.89 s\n",
      "Wall time: 8.88 s\n"
     ]
    }
   ],
   "source": [
    "%%time\n",
    "\n",
    "polys = geopandas.GeoSeries(\n",
    "    map(\n",
    "        lambda h: Polygon(h3.h3_to_geo_boundary(h, geo_json=True)),\n",
    "        df[\"h3\"]\n",
    "    ),\n",
    "    index=df[\"h3\"].index,\n",
    "    crs=\"EPSG:4326\",\n",
    ")"
   ]
  },
  {
   "cell_type": "code",
   "execution_count": 14,
   "metadata": {},
   "outputs": [
    {
     "data": {
      "image/png": "[encoded data removed]",
      "text/plain": [
       "<Figure size 720x720 with 1 Axes>"
      ]
     },
     "metadata": {
      "needs_background": "light"
     },
     "output_type": "display_data"
    }
   ],
   "source": [
    "ax = polys.iloc[:10_000].plot(\n",
    "    alpha=0.01,\n",
    "    color=\"lightgray\",\n",
    "    figsize=(10, 10),\n",
    "    edgecolor=\"black\", \n",
    ")"
   ]
  },
  {
   "cell_type": "markdown",
   "metadata": {},
   "source": [
    "## Collapse trajectories\n",
    "\n",
    "We'll remove all consecutive duplicates from the trajectories."
   ]
  },
  {
   "cell_type": "code",
   "execution_count": 15,
   "metadata": {},
   "outputs": [],
   "source": [
    "def _get_unique_index(trajectory):\n",
    "    def _collapse(sequence):\n",
    "        last = None\n",
    "        for n, element in enumerate(sequence):\n",
    "            if element != last:\n",
    "                yield n\n",
    "            last = element\n",
    "    return trajectory.index[list(_collapse(trajectory))]"
   ]
  },
  {
   "cell_type": "code",
   "execution_count": 16,
   "metadata": {},
   "outputs": [
    {
     "data": {
      "text/plain": [
       "Int64Index([0, 1, 2, 4], dtype='int64')"
      ]
     },
     "execution_count": 16,
     "metadata": {},
     "output_type": "execute_result"
    }
   ],
   "source": [
    "_get_unique_index(pd.Series([0, 1, 2, 2, 3]))"
   ]
  },
  {
   "cell_type": "code",
   "execution_count": 17,
   "metadata": {},
   "outputs": [
    {
     "data": {
      "text/html": [
       "<div>\n",
       "<style scoped>\n",
       "    .dataframe tbody tr th:only-of-type {\n",
       "        vertical-align: middle;\n",
       "    }\n",
       "\n",
       "    .dataframe tbody tr th {\n",
       "        vertical-align: top;\n",
       "    }\n",
       "\n",
       "    .dataframe thead th {\n",
       "        text-align: right;\n",
       "    }\n",
       "</style>\n",
       "<table border=\"1\" class=\"dataframe\">\n",
       "  <thead>\n",
       "    <tr style=\"text-align: right;\">\n",
       "      <th></th>\n",
       "      <th>lat</th>\n",
       "      <th>lon</th>\n",
       "      <th>h3</th>\n",
       "    </tr>\n",
       "    <tr>\n",
       "      <th>obs</th>\n",
       "      <th></th>\n",
       "      <th></th>\n",
       "      <th></th>\n",
       "    </tr>\n",
       "  </thead>\n",
       "  <tbody>\n",
       "    <tr>\n",
       "      <th>0</th>\n",
       "      <td>43.288517</td>\n",
       "      <td>5.171321</td>\n",
       "      <td>863968117ffffff</td>\n",
       "    </tr>\n",
       "    <tr>\n",
       "      <th>1</th>\n",
       "      <td>43.285854</td>\n",
       "      <td>5.181101</td>\n",
       "      <td>863968117ffffff</td>\n",
       "    </tr>\n",
       "    <tr>\n",
       "      <th>2</th>\n",
       "      <td>43.283524</td>\n",
       "      <td>5.190491</td>\n",
       "      <td>863968117ffffff</td>\n",
       "    </tr>\n",
       "    <tr>\n",
       "      <th>3</th>\n",
       "      <td>43.281498</td>\n",
       "      <td>5.199454</td>\n",
       "      <td>863968117ffffff</td>\n",
       "    </tr>\n",
       "    <tr>\n",
       "      <th>4</th>\n",
       "      <td>43.279760</td>\n",
       "      <td>5.208031</td>\n",
       "      <td>863968117ffffff</td>\n",
       "    </tr>\n",
       "    <tr>\n",
       "      <th>...</th>\n",
       "      <td>...</td>\n",
       "      <td>...</td>\n",
       "      <td>...</td>\n",
       "    </tr>\n",
       "    <tr>\n",
       "      <th>957</th>\n",
       "      <td>43.266370</td>\n",
       "      <td>5.374965</td>\n",
       "      <td>86396802fffffff</td>\n",
       "    </tr>\n",
       "    <tr>\n",
       "      <th>958</th>\n",
       "      <td>43.266370</td>\n",
       "      <td>5.374965</td>\n",
       "      <td>86396802fffffff</td>\n",
       "    </tr>\n",
       "    <tr>\n",
       "      <th>959</th>\n",
       "      <td>43.266370</td>\n",
       "      <td>5.374965</td>\n",
       "      <td>86396802fffffff</td>\n",
       "    </tr>\n",
       "    <tr>\n",
       "      <th>960</th>\n",
       "      <td>43.266370</td>\n",
       "      <td>5.374965</td>\n",
       "      <td>86396802fffffff</td>\n",
       "    </tr>\n",
       "    <tr>\n",
       "      <th>961</th>\n",
       "      <td>43.266370</td>\n",
       "      <td>5.374965</td>\n",
       "      <td>86396802fffffff</td>\n",
       "    </tr>\n",
       "  </tbody>\n",
       "</table>\n",
       "<p>962 rows × 3 columns</p>\n",
       "</div>"
      ],
      "text/plain": [
       "           lat       lon               h3\n",
       "obs                                      \n",
       "0    43.288517  5.171321  863968117ffffff\n",
       "1    43.285854  5.181101  863968117ffffff\n",
       "2    43.283524  5.190491  863968117ffffff\n",
       "3    43.281498  5.199454  863968117ffffff\n",
       "4    43.279760  5.208031  863968117ffffff\n",
       "..         ...       ...              ...\n",
       "957  43.266370  5.374965  86396802fffffff\n",
       "958  43.266370  5.374965  86396802fffffff\n",
       "959  43.266370  5.374965  86396802fffffff\n",
       "960  43.266370  5.374965  86396802fffffff\n",
       "961  43.266370  5.374965  86396802fffffff\n",
       "\n",
       "[962 rows x 3 columns]"
      ]
     },
     "execution_count": 17,
     "metadata": {},
     "output_type": "execute_result"
    }
   ],
   "source": [
    "traj = df.loc[df.index.levels[0][0]]\n",
    "traj"
   ]
  },
  {
   "cell_type": "code",
   "execution_count": 18,
   "metadata": {},
   "outputs": [],
   "source": [
    "df_collapsed = pd.concat(\n",
    "    (\n",
    "        df.loc[_traj].loc[_get_unique_index(df.loc[_traj][\"h3\"])]\n",
    "        for _traj in df.index.levels[0]\n",
    "    ),\n",
    "    keys=df.index.levels[0],\n",
    ")"
   ]
  },
  {
   "cell_type": "code",
   "execution_count": 19,
   "metadata": {},
   "outputs": [
    {
     "data": {
      "text/html": [
       "<div>\n",
       "<style scoped>\n",
       "    .dataframe tbody tr th:only-of-type {\n",
       "        vertical-align: middle;\n",
       "    }\n",
       "\n",
       "    .dataframe tbody tr th {\n",
       "        vertical-align: top;\n",
       "    }\n",
       "\n",
       "    .dataframe thead th {\n",
       "        text-align: right;\n",
       "    }\n",
       "</style>\n",
       "<table border=\"1\" class=\"dataframe\">\n",
       "  <thead>\n",
       "    <tr style=\"text-align: right;\">\n",
       "      <th></th>\n",
       "      <th></th>\n",
       "      <th>lat</th>\n",
       "      <th>lon</th>\n",
       "      <th>h3</th>\n",
       "    </tr>\n",
       "    <tr>\n",
       "      <th>traj</th>\n",
       "      <th>obs</th>\n",
       "      <th></th>\n",
       "      <th></th>\n",
       "      <th></th>\n",
       "    </tr>\n",
       "  </thead>\n",
       "  <tbody>\n",
       "    <tr>\n",
       "      <th rowspan=\"5\" valign=\"top\">0</th>\n",
       "      <th>0</th>\n",
       "      <td>43.288517</td>\n",
       "      <td>5.171321</td>\n",
       "      <td>863968117ffffff</td>\n",
       "    </tr>\n",
       "    <tr>\n",
       "      <th>5</th>\n",
       "      <td>43.278210</td>\n",
       "      <td>5.216301</td>\n",
       "      <td>86396811fffffff</td>\n",
       "    </tr>\n",
       "    <tr>\n",
       "      <th>17</th>\n",
       "      <td>43.263443</td>\n",
       "      <td>5.285539</td>\n",
       "      <td>863968027ffffff</td>\n",
       "    </tr>\n",
       "    <tr>\n",
       "      <th>64</th>\n",
       "      <td>43.300280</td>\n",
       "      <td>5.326179</td>\n",
       "      <td>86396810fffffff</td>\n",
       "    </tr>\n",
       "    <tr>\n",
       "      <th>76</th>\n",
       "      <td>43.347170</td>\n",
       "      <td>5.283669</td>\n",
       "      <td>86396812fffffff</td>\n",
       "    </tr>\n",
       "    <tr>\n",
       "      <th>...</th>\n",
       "      <th>...</th>\n",
       "      <td>...</td>\n",
       "      <td>...</td>\n",
       "      <td>...</td>\n",
       "    </tr>\n",
       "    <tr>\n",
       "      <th rowspan=\"5\" valign=\"top\">599</th>\n",
       "      <th>844</th>\n",
       "      <td>40.728470</td>\n",
       "      <td>5.207891</td>\n",
       "      <td>86394eb17ffffff</td>\n",
       "    </tr>\n",
       "    <tr>\n",
       "      <th>886</th>\n",
       "      <td>40.753320</td>\n",
       "      <td>5.275041</td>\n",
       "      <td>86394eb07ffffff</td>\n",
       "    </tr>\n",
       "    <tr>\n",
       "      <th>931</th>\n",
       "      <td>40.755733</td>\n",
       "      <td>5.331959</td>\n",
       "      <td>86394eb0fffffff</td>\n",
       "    </tr>\n",
       "    <tr>\n",
       "      <th>932</th>\n",
       "      <td>40.753593</td>\n",
       "      <td>5.334185</td>\n",
       "      <td>86394eb1fffffff</td>\n",
       "    </tr>\n",
       "    <tr>\n",
       "      <th>946</th>\n",
       "      <td>40.717350</td>\n",
       "      <td>5.359995</td>\n",
       "      <td>86394ea27ffffff</td>\n",
       "    </tr>\n",
       "  </tbody>\n",
       "</table>\n",
       "<p>47954 rows × 3 columns</p>\n",
       "</div>"
      ],
      "text/plain": [
       "                lat       lon               h3\n",
       "traj obs                                      \n",
       "0    0    43.288517  5.171321  863968117ffffff\n",
       "     5    43.278210  5.216301  86396811fffffff\n",
       "     17   43.263443  5.285539  863968027ffffff\n",
       "     64   43.300280  5.326179  86396810fffffff\n",
       "     76   43.347170  5.283669  86396812fffffff\n",
       "...             ...       ...              ...\n",
       "599  844  40.728470  5.207891  86394eb17ffffff\n",
       "     886  40.753320  5.275041  86394eb07ffffff\n",
       "     931  40.755733  5.331959  86394eb0fffffff\n",
       "     932  40.753593  5.334185  86394eb1fffffff\n",
       "     946  40.717350  5.359995  86394ea27ffffff\n",
       "\n",
       "[47954 rows x 3 columns]"
      ]
     },
     "execution_count": 19,
     "metadata": {},
     "output_type": "execute_result"
    }
   ],
   "source": [
    "df_collapsed"
   ]
  },
  {
   "cell_type": "code",
   "execution_count": 20,
   "metadata": {},
   "outputs": [
    {
     "data": {
      "text/plain": [
       "<AxesSubplot:ylabel='Frequency'>"
      ]
     },
     "execution_count": 20,
     "metadata": {},
     "output_type": "execute_result"
    },
    {
     "data": {
      "image/png": "[encoded data removed]",
      "text/plain": [
       "<Figure size 432x288 with 1 Axes>"
      ]
     },
     "metadata": {
      "needs_background": "light"
     },
     "output_type": "display_data"
    }
   ],
   "source": [
    "pd.Series([len(df_collapsed.loc[traj]) for traj in df_collapsed.index.levels[0]]).plot.hist(bins=100)"
   ]
  },
  {
   "cell_type": "markdown",
   "metadata": {},
   "source": [
    "Note that this looks similar to the total count of different H3s per trajectory plotted above. This is expected, as trajectories typically are non-local and don't revisit places. "
   ]
  },
  {
   "cell_type": "markdown",
   "metadata": {},
   "source": [
    "## Remove very short trajectories"
   ]
  },
  {
   "cell_type": "code",
   "execution_count": 21,
   "metadata": {},
   "outputs": [
    {
     "data": {
      "text/plain": [
       "traj\n",
       "0        9\n",
       "1       95\n",
       "2      108\n",
       "3      112\n",
       "4      109\n",
       "      ... \n",
       "595     92\n",
       "596     88\n",
       "597     89\n",
       "598    106\n",
       "599     99\n",
       "Length: 600, dtype: int64"
      ]
     },
     "execution_count": 21,
     "metadata": {},
     "output_type": "execute_result"
    }
   ],
   "source": [
    "number_of_h3s = pd.Series(\n",
    "    [len(df_collapsed.loc[traj]) for traj in df_collapsed.index.levels[0]],\n",
    "    index=df_collapsed.index.levels[0]\n",
    ")\n",
    "number_of_h3s"
   ]
  },
  {
   "cell_type": "code",
   "execution_count": 22,
   "metadata": {},
   "outputs": [
    {
     "data": {
      "text/plain": [
       "<AxesSubplot:xlabel='traj'>"
      ]
     },
     "execution_count": 22,
     "metadata": {},
     "output_type": "execute_result"
    },
    {
     "data": {
      "image/png": "[encoded data removed]",
      "text/plain": [
       "<Figure size 432x288 with 1 Axes>"
      ]
     },
     "metadata": {
      "needs_background": "light"
     },
     "output_type": "display_data"
    }
   ],
   "source": [
    "number_of_h3s.plot()"
   ]
  },
  {
   "cell_type": "code",
   "execution_count": 24,
   "metadata": {},
   "outputs": [
    {
     "data": {
      "text/plain": [
       "Int64Index([  1,   2,   3,   4,   5,   6,   7,   8,   9,  10,\n",
       "            ...\n",
       "            588, 589, 591, 592, 594, 595, 596, 597, 598, 599],\n",
       "           dtype='int64', name='traj', length=451)"
      ]
     },
     "execution_count": 24,
     "metadata": {},
     "output_type": "execute_result"
    }
   ],
   "source": [
    "long_trajectories = number_of_h3s.index[(number_of_h3s > h3_number_cutoff)]\n",
    "long_trajectories"
   ]
  },
  {
   "cell_type": "code",
   "execution_count": 40,
   "metadata": {},
   "outputs": [],
   "source": [
    "df_collapsed = pd.concat(\n",
    "    (df_collapsed.loc[trj] for trj in long_trajectories),\n",
    "    keys=long_trajectories\n",
    ")"
   ]
  },
  {
   "cell_type": "markdown",
   "metadata": {},
   "source": [
    "## Distance metric"
   ]
  },
  {
   "cell_type": "code",
   "execution_count": 43,
   "metadata": {},
   "outputs": [],
   "source": [
    "import editdistance"
   ]
  },
  {
   "cell_type": "code",
   "execution_count": 44,
   "metadata": {},
   "outputs": [],
   "source": [
    "def traj_editdist(traj_0, traj_1):\n",
    "    return editdistance.eval(list(traj_0[\"h3\"]), list(traj_1[\"h3\"]))"
   ]
  },
  {
   "cell_type": "code",
   "execution_count": 45,
   "metadata": {},
   "outputs": [],
   "source": [
    "traj_0_index = df_collapsed.index.levels[0][0]\n",
    "traj_1_index = df_collapsed.index.levels[0][2]"
   ]
  },
  {
   "cell_type": "code",
   "execution_count": 46,
   "metadata": {},
   "outputs": [
    {
     "name": "stdout",
     "output_type": "stream",
     "text": [
      "CPU times: user 14.1 ms, sys: 115 µs, total: 14.2 ms\n",
      "Wall time: 11.6 ms\n"
     ]
    },
    {
     "data": {
      "text/plain": [
       "959"
      ]
     },
     "execution_count": 46,
     "metadata": {},
     "output_type": "execute_result"
    }
   ],
   "source": [
    "%time traj_editdist(df.loc[traj_0_index], df.loc[traj_1_index])"
   ]
  },
  {
   "cell_type": "code",
   "execution_count": 48,
   "metadata": {},
   "outputs": [
    {
     "name": "stdout",
     "output_type": "stream",
     "text": [
      "CPU times: user 6.09 ms, sys: 115 µs, total: 6.21 ms\n",
      "Wall time: 4.63 ms\n"
     ]
    },
    {
     "data": {
      "text/plain": [
       "112"
      ]
     },
     "execution_count": 48,
     "metadata": {},
     "output_type": "execute_result"
    }
   ],
   "source": [
    "%time traj_editdist(df_collapsed.loc[traj_0_index], df_collapsed.loc[traj_1_index])"
   ]
  },
  {
   "cell_type": "markdown",
   "metadata": {},
   "source": [
    "## Cost and performance estimate"
   ]
  },
  {
   "cell_type": "markdown",
   "metadata": {},
   "source": [
    "We'll have to evaluate the distance for all possible pairs of trajectories (`num_traj * (num_traj-1)`).\n",
    "- For 1000 trajectories and on a single CPU, this will take\n",
    "  - `14ms * 1_000 * 999 = 14_000s = 4h` for the full trajectories, and\n",
    "  - `1ms * 1_000 * 999 = 1_000s = 1h` for the collapsed trajectories.\n",
    "- For 10_000 trajectories and on a single CPU, this will take\n",
    "  - `14ms * 10_000 * 9999 = 1_400_000s = 400h` for the full trajectories, and\n",
    "  - `4ms * 10_000 * 9999 = 400_000s = 100h` for the collapsed trajectories."
   ]
  },
  {
   "cell_type": "markdown",
   "metadata": {},
   "source": [
    "As many of the clusterin algorithms are serial, we cannot easily use parallelisation to decrease these times if we calculate the metric while the clustering is running. We could, however, pre-compute them and submit a full distance matrix to (some of) the clustering algorithms.\n",
    "\n",
    "However, this imposes another boundary: Size of the (float64) distance matrix.\n",
    "- For 1_000 trajectories, distance matrix amounts to 8 MiB, compute takes 1h if 1 CPU, 2min if 32 CPU\n",
    "- For 10_000 trajectories, distance matrix amounts to 800 MiB, compute takes 100h if 1 CPU, 3h if 32 CPU\n",
    "- For 100_000 trajectories, distance matrix amounts to 80 GiB, compute takes 10_000h if 1 CPU\n",
    "- For 353_553 trajectories, distance matrix amounts to 1 TiB, compute takes 1_000_000j if 1 CPU"
   ]
  },
  {
   "cell_type": "markdown",
   "metadata": {},
   "source": [
    "## Clustering"
   ]
  },
  {
   "cell_type": "code",
   "execution_count": 49,
   "metadata": {},
   "outputs": [],
   "source": [
    "from sklearn.cluster import DBSCAN, OPTICS, KMeans\n",
    "from sklearn.metrics import pairwise_distances"
   ]
  },
  {
   "cell_type": "markdown",
   "metadata": {},
   "source": [
    "### Data and metric prep"
   ]
  },
  {
   "cell_type": "code",
   "execution_count": 50,
   "metadata": {},
   "outputs": [
    {
     "data": {
      "text/plain": [
       "451"
      ]
     },
     "execution_count": 50,
     "metadata": {},
     "output_type": "execute_result"
    }
   ],
   "source": [
    "len(df_collapsed.index.levels[0])"
   ]
  },
  {
   "cell_type": "code",
   "execution_count": 51,
   "metadata": {},
   "outputs": [
    {
     "data": {
      "text/plain": [
       "(451, 1)"
      ]
     },
     "execution_count": 51,
     "metadata": {},
     "output_type": "execute_result"
    }
   ],
   "source": [
    "X = np.arange(len(df_collapsed.index.levels[0])).reshape(-1, 1)\n",
    "X.shape"
   ]
  },
  {
   "cell_type": "code",
   "execution_count": 52,
   "metadata": {},
   "outputs": [],
   "source": [
    "def wrapped_dist(x, y, **kwargs):\n",
    "    i, j = int(x[0]), int(y[0])\n",
    "    tind0 = df_collapsed.index.levels[0][i]\n",
    "    tind1 = df_collapsed.index.levels[0][j]\n",
    "    t0 = df_collapsed.loc[tind0]\n",
    "    t1 = df_collapsed.loc[tind1]\n",
    "    norm = max(len(t0), len(t1))\n",
    "    return traj_editdist(t0, t1) / norm"
   ]
  },
  {
   "cell_type": "markdown",
   "metadata": {},
   "source": [
    "### Distance Matrix"
   ]
  },
  {
   "cell_type": "code",
   "execution_count": 53,
   "metadata": {},
   "outputs": [
    {
     "name": "stdout",
     "output_type": "stream",
     "text": [
      "CPU times: user 37.1 ms, sys: 5.92 ms, total: 43 ms\n",
      "Wall time: 41.4 ms\n",
      "CPU times: user 2.71 s, sys: 7.5 ms, total: 2.72 s\n",
      "Wall time: 2.72 s\n"
     ]
    }
   ],
   "source": [
    "%time dist = pairwise_distances(X[:10], metric=wrapped_dist, n_jobs=1)\n",
    "%time dist = pairwise_distances(X[:100], metric=wrapped_dist, n_jobs=1)"
   ]
  },
  {
   "cell_type": "code",
   "execution_count": 54,
   "metadata": {},
   "outputs": [
    {
     "data": {
      "text/plain": [
       "(array([1.000e+02, 0.000e+00, 0.000e+00, 2.000e+00, 1.200e+01, 1.200e+01,\n",
       "        2.400e+01, 3.000e+01, 2.460e+02, 9.574e+03]),\n",
       " array([0. , 0.1, 0.2, 0.3, 0.4, 0.5, 0.6, 0.7, 0.8, 0.9, 1. ]),\n",
       " <BarContainer object of 10 artists>)"
      ]
     },
     "execution_count": 54,
     "metadata": {},
     "output_type": "execute_result"
    },
    {
     "data": {
      "image/png": "[encoded data removed]",
      "text/plain": [
       "<Figure size 432x288 with 1 Axes>"
      ]
     },
     "metadata": {
      "needs_background": "light"
     },
     "output_type": "display_data"
    }
   ],
   "source": [
    "plt.hist(dist.flatten())"
   ]
  },
  {
   "cell_type": "markdown",
   "metadata": {},
   "source": [
    "### Clustering"
   ]
  },
  {
   "cell_type": "markdown",
   "metadata": {},
   "source": [
    "We need the full distance matrix."
   ]
  },
  {
   "cell_type": "code",
   "execution_count": null,
   "metadata": {},
   "outputs": [],
   "source": [
    "%%time\n",
    "\n",
    "dist = pairwise_distances(X, metric=wrapped_dist)"
   ]
  },
  {
   "cell_type": "code",
   "execution_count": null,
   "metadata": {},
   "outputs": [],
   "source": [
    "np.median(dist.flatten()) - dist.flatten().std()"
   ]
  },
  {
   "cell_type": "code",
   "execution_count": null,
   "metadata": {},
   "outputs": [],
   "source": [
    "plt.hist(dist.flatten());"
   ]
  },
  {
   "cell_type": "markdown",
   "metadata": {},
   "source": [
    "DBSCAN:"
   ]
  },
  {
   "cell_type": "code",
   "execution_count": null,
   "metadata": {},
   "outputs": [],
   "source": [
    "%%time\n",
    "\n",
    "dbs = DBSCAN(\n",
    "    metric=\"precomputed\", min_samples=3, eps=0.8,\n",
    ")\n",
    "\n",
    "dbs_ids = dbs.fit_predict(dist)"
   ]
  },
  {
   "cell_type": "code",
   "execution_count": null,
   "metadata": {},
   "outputs": [],
   "source": [
    "display(dbs_ids.shape)\n",
    "display(dbs_ids.max())"
   ]
  },
  {
   "cell_type": "code",
   "execution_count": null,
   "metadata": {},
   "outputs": [],
   "source": [
    "plt.hist(dbs_ids)"
   ]
  },
  {
   "cell_type": "code",
   "execution_count": null,
   "metadata": {},
   "outputs": [],
   "source": [
    "fig, ax = plt.subplots(6, 5, figsize=(14, 14))\n",
    "\n",
    "ax = ax.flatten()\n",
    "\n",
    "for _ax, cl in zip(ax, range(dbs_ids.max() + 1)):\n",
    "    df.loc[df.index.levels[0][dbs_ids == -1]].plot.scatter(\n",
    "        x=\"lon\", y=\"lat\", color=\"gray\", s=2, alpha=0.04, ax=_ax\n",
    "    );\n",
    "    df.loc[df.index.levels[0][dbs_ids == cl]].plot.scatter(\n",
    "        x=\"lon\", y=\"lat\", s=2, color=\"orange\", alpha=0.04, ax=_ax\n",
    "    );"
   ]
  },
  {
   "cell_type": "markdown",
   "metadata": {},
   "source": [
    "OPTICS:"
   ]
  },
  {
   "cell_type": "code",
   "execution_count": null,
   "metadata": {},
   "outputs": [],
   "source": [
    "%%time\n",
    "\n",
    "optics = OPTICS(\n",
    "    metric=\"precomputed\", min_samples=2, max_eps=1.0,\n",
    ")\n",
    "\n",
    "optics_ids = optics.fit_predict(dist)"
   ]
  },
  {
   "cell_type": "code",
   "execution_count": null,
   "metadata": {},
   "outputs": [],
   "source": [
    "display(optics_ids.shape)\n",
    "display(optics_ids.max())"
   ]
  },
  {
   "cell_type": "code",
   "execution_count": null,
   "metadata": {},
   "outputs": [],
   "source": [
    "plt.hist(optics_ids)"
   ]
  },
  {
   "cell_type": "code",
   "execution_count": null,
   "metadata": {},
   "outputs": [],
   "source": [
    "fig, ax = plt.subplots(7, 7, figsize=(18, 18))\n",
    "\n",
    "ax = ax.flatten()\n",
    "\n",
    "for _ax, cl in zip(ax, range(optics_ids.max() + 1)):\n",
    "    df.loc[df.index.levels[0][optics_ids == -1]].plot.scatter(\n",
    "        x=\"lon\", y=\"lat\", color=\"gray\", s=2, alpha=0.04, ax=_ax\n",
    "    );\n",
    "    df.loc[df.index.levels[0][optics_ids == cl]].plot.scatter(\n",
    "        x=\"lon\", y=\"lat\", s=2, color=\"orange\", alpha=0.04, ax=_ax\n",
    "    );\n",
    "\n"
   ]
  }
 ],
 "metadata": {
  "kernelspec": {
   "display_name": "Python [conda env:py3_traj_clustering_2021.09.19.1]",
   "language": "python",
   "name": "conda-env-py3_traj_clustering_2021.09.19.1-py"
  },
  "language_info": {
   "codemirror_mode": {
    "name": "ipython",
    "version": 3
   },
   "file_extension": ".py",
   "mimetype": "text/x-python",
   "name": "python",
   "nbconvert_exporter": "python",
   "pygments_lexer": "ipython3",
   "version": "3.9.7"
  }
 },
 "nbformat": 4,
 "nbformat_minor": 4
}
