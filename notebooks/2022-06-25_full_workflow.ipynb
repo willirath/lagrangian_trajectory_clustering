{
 "cells": [
  {
   "cell_type": "code",
   "execution_count": 1,
   "id": "5ad7fd61-4b89-4528-ba4f-2ef716a5b6cd",
   "metadata": {},
   "outputs": [],
   "source": [
    "from numba.core.errors import NumbaDeprecationWarning, NumbaPendingDeprecationWarning\n",
    "import warnings\n",
    "\n",
    "warnings.simplefilter('ignore', category=NumbaDeprecationWarning)\n",
    "warnings.simplefilter('ignore', category=NumbaPendingDeprecationWarning)"
   ]
  },
  {
   "cell_type": "code",
   "execution_count": 2,
   "id": "53fa64dd-d4c0-4abd-909f-a44a157dab69",
   "metadata": {},
   "outputs": [],
   "source": [
    "from lagrangian_trajectory_clustering.data_loading import (\n",
    "    load_cape_verde_trajectories,\n",
    "    \n",
    "    subset_trajectories,\n",
    ")"
   ]
  },
  {
   "cell_type": "code",
   "execution_count": 3,
   "id": "21ad096c-705d-4666-b085-e9f4c239b6a9",
   "metadata": {},
   "outputs": [],
   "source": [
    "# parameters\n",
    "\n",
    "num_traj = 1_000\n",
    "year = 2017\n",
    "lat_lon_res = 7"
   ]
  },
  {
   "cell_type": "code",
   "execution_count": 4,
   "id": "c306639d-1fa0-4e68-a74a-06d6dcc845e2",
   "metadata": {},
   "outputs": [
    {
     "data": {
      "text/html": [
       "<div>\n",
       "<style scoped>\n",
       "    .dataframe tbody tr th:only-of-type {\n",
       "        vertical-align: middle;\n",
       "    }\n",
       "\n",
       "    .dataframe tbody tr th {\n",
       "        vertical-align: top;\n",
       "    }\n",
       "\n",
       "    .dataframe thead th {\n",
       "        text-align: right;\n",
       "    }\n",
       "</style>\n",
       "<table border=\"1\" class=\"dataframe\">\n",
       "  <thead>\n",
       "    <tr style=\"text-align: right;\">\n",
       "      <th></th>\n",
       "      <th></th>\n",
       "      <th>longitude</th>\n",
       "      <th>latitude</th>\n",
       "    </tr>\n",
       "    <tr>\n",
       "      <th>traj</th>\n",
       "      <th>obs</th>\n",
       "      <th></th>\n",
       "      <th></th>\n",
       "    </tr>\n",
       "  </thead>\n",
       "  <tbody>\n",
       "    <tr>\n",
       "      <th rowspan=\"5\" valign=\"top\">8</th>\n",
       "      <th>0</th>\n",
       "      <td>-22.691607</td>\n",
       "      <td>16.029816</td>\n",
       "    </tr>\n",
       "    <tr>\n",
       "      <th>1</th>\n",
       "      <td>-22.685192</td>\n",
       "      <td>15.991036</td>\n",
       "    </tr>\n",
       "    <tr>\n",
       "      <th>2</th>\n",
       "      <td>-22.683147</td>\n",
       "      <td>15.967465</td>\n",
       "    </tr>\n",
       "    <tr>\n",
       "      <th>3</th>\n",
       "      <td>-22.692963</td>\n",
       "      <td>15.966416</td>\n",
       "    </tr>\n",
       "    <tr>\n",
       "      <th>4</th>\n",
       "      <td>-22.705220</td>\n",
       "      <td>15.973639</td>\n",
       "    </tr>\n",
       "    <tr>\n",
       "      <th>...</th>\n",
       "      <th>...</th>\n",
       "      <td>...</td>\n",
       "      <td>...</td>\n",
       "    </tr>\n",
       "    <tr>\n",
       "      <th rowspan=\"5\" valign=\"top\">9964</th>\n",
       "      <th>253</th>\n",
       "      <td>-49.320366</td>\n",
       "      <td>10.847726</td>\n",
       "    </tr>\n",
       "    <tr>\n",
       "      <th>254</th>\n",
       "      <td>-49.505756</td>\n",
       "      <td>10.759947</td>\n",
       "    </tr>\n",
       "    <tr>\n",
       "      <th>255</th>\n",
       "      <td>-49.673706</td>\n",
       "      <td>10.700109</td>\n",
       "    </tr>\n",
       "    <tr>\n",
       "      <th>256</th>\n",
       "      <td>-49.828434</td>\n",
       "      <td>10.668164</td>\n",
       "    </tr>\n",
       "    <tr>\n",
       "      <th>257</th>\n",
       "      <td>-49.828434</td>\n",
       "      <td>10.668164</td>\n",
       "    </tr>\n",
       "  </tbody>\n",
       "</table>\n",
       "<p>292061 rows × 2 columns</p>\n",
       "</div>"
      ],
      "text/plain": [
       "          longitude   latitude\n",
       "traj obs                      \n",
       "8    0   -22.691607  16.029816\n",
       "     1   -22.685192  15.991036\n",
       "     2   -22.683147  15.967465\n",
       "     3   -22.692963  15.966416\n",
       "     4   -22.705220  15.973639\n",
       "...             ...        ...\n",
       "9964 253 -49.320366  10.847726\n",
       "     254 -49.505756  10.759947\n",
       "     255 -49.673706  10.700109\n",
       "     256 -49.828434  10.668164\n",
       "     257 -49.828434  10.668164\n",
       "\n",
       "[292061 rows x 2 columns]"
      ]
     },
     "metadata": {},
     "output_type": "display_data"
    }
   ],
   "source": [
    "raw_data = subset_trajectories(\n",
    "    load_cape_verde_trajectories(year=year),\n",
    "    num_traj=num_traj,\n",
    "    use_random=True,\n",
    "    random_seed=456,\n",
    ")[[\"longitude\", \"latitude\"]]\n",
    "\n",
    "display(raw_data)"
   ]
  },
  {
   "cell_type": "code",
   "execution_count": 5,
   "id": "1d7dd71a-9765-4e59-a596-f5c7f7b9efb4",
   "metadata": {},
   "outputs": [],
   "source": [
    "import pandas as pd\n",
    "import numpy as np"
   ]
  },
  {
   "cell_type": "code",
   "execution_count": 7,
   "id": "9e752dfb-e3f7-4ddd-aa44-befa03003542",
   "metadata": {},
   "outputs": [],
   "source": [
    "new_trai = pd.Series(np.arange(num_traj), index=raw_data.index.levels[0], name=\"new_traj\")\n",
    "\n",
    "raw_data = (\n",
    "    raw_data\n",
    "    .join(new_trai)\n",
    "    .reset_index()\n",
    "    .rename(columns={\"traj\": \"old_traj\"})\n",
    "    .rename(columns={\"new_traj\": \"traj\"})\n",
    "    .set_index([\"traj\", \"obs\"])\n",
    ")"
   ]
  },
  {
   "cell_type": "code",
   "execution_count": 8,
   "id": "cc259720-be3c-48b1-a73b-7e4ec2236d86",
   "metadata": {},
   "outputs": [],
   "source": [
    "from lagrangian_trajectory_clustering.trafo.grid import (\n",
    "    geo_df_to_grid_series,  # lat lon coords to grid index\n",
    "    grid_series_to_geo_df,  # grid index to lat lon coords\n",
    ")\n",
    "\n",
    "from lagrangian_trajectory_clustering.trafo.sequence import (\n",
    "    remove_subsequent_identical_elements,  # transorm to sequence of unique subsequent elemets\n",
    "    multi_index_series_to_series_sequences,  # transform to series of sequences\n",
    "    series_sequences_to_multi_index_series,  # transform back from series of sequences\n",
    "    fill_in_segments,  # fill in jumps leaping over grid boxes\n",
    ")"
   ]
  },
  {
   "cell_type": "code",
   "execution_count": 9,
   "id": "9f05e23b-7b65-4c9c-b6f8-40eb9989bfe8",
   "metadata": {},
   "outputs": [
    {
     "name": "stdout",
     "output_type": "stream",
     "text": [
      "58 93\n"
     ]
    }
   ],
   "source": [
    "lat_num = int(180 // (abs(raw_data.latitude.max() - raw_data.latitude.min()) / lat_lon_res) + 1)\n",
    "lon_num = int(360 // (abs(raw_data.longitude.max() - raw_data.longitude.min()) / lat_lon_res) + 1)\n",
    "print(lon_num, lat_num)"
   ]
  },
  {
   "cell_type": "code",
   "execution_count": 10,
   "id": "a476cc34-b329-43f8-a099-8e57a7ef2259",
   "metadata": {},
   "outputs": [
    {
     "name": "stderr",
     "output_type": "stream",
     "text": [
      "/opt/conda/lib/python3.10/site-packages/pandas/core/algorithms.py:798: FutureWarning: In a future version, the Index constructor will not infer numeric dtypes when passed object-dtype sequences (matching Series behavior)\n",
      "  uniques = Index(uniques)\n"
     ]
    },
    {
     "data": {
      "text/html": [
       "<div>\n",
       "<style scoped>\n",
       "    .dataframe tbody tr th:only-of-type {\n",
       "        vertical-align: middle;\n",
       "    }\n",
       "\n",
       "    .dataframe tbody tr th {\n",
       "        vertical-align: top;\n",
       "    }\n",
       "\n",
       "    .dataframe thead th {\n",
       "        text-align: right;\n",
       "    }\n",
       "</style>\n",
       "<table border=\"1\" class=\"dataframe\">\n",
       "  <thead>\n",
       "    <tr style=\"text-align: right;\">\n",
       "      <th></th>\n",
       "      <th></th>\n",
       "      <th>longitude</th>\n",
       "      <th>latitude</th>\n",
       "    </tr>\n",
       "    <tr>\n",
       "      <th>traj</th>\n",
       "      <th>obs</th>\n",
       "      <th></th>\n",
       "      <th></th>\n",
       "    </tr>\n",
       "  </thead>\n",
       "  <tbody>\n",
       "    <tr>\n",
       "      <th rowspan=\"5\" valign=\"top\">0</th>\n",
       "      <th>0</th>\n",
       "      <td>337.894737</td>\n",
       "      <td>16.630435</td>\n",
       "    </tr>\n",
       "    <tr>\n",
       "      <th>1</th>\n",
       "      <td>337.894737</td>\n",
       "      <td>14.673913</td>\n",
       "    </tr>\n",
       "    <tr>\n",
       "      <th>2</th>\n",
       "      <td>331.578947</td>\n",
       "      <td>14.673913</td>\n",
       "    </tr>\n",
       "    <tr>\n",
       "      <th>3</th>\n",
       "      <td>325.263158</td>\n",
       "      <td>14.673913</td>\n",
       "    </tr>\n",
       "    <tr>\n",
       "      <th>4</th>\n",
       "      <td>325.263158</td>\n",
       "      <td>16.630435</td>\n",
       "    </tr>\n",
       "    <tr>\n",
       "      <th>...</th>\n",
       "      <th>...</th>\n",
       "      <td>...</td>\n",
       "      <td>...</td>\n",
       "    </tr>\n",
       "    <tr>\n",
       "      <th rowspan=\"5\" valign=\"top\">999</th>\n",
       "      <th>5</th>\n",
       "      <td>318.947368</td>\n",
       "      <td>12.717391</td>\n",
       "    </tr>\n",
       "    <tr>\n",
       "      <th>6</th>\n",
       "      <td>318.947368</td>\n",
       "      <td>10.760870</td>\n",
       "    </tr>\n",
       "    <tr>\n",
       "      <th>7</th>\n",
       "      <td>312.631579</td>\n",
       "      <td>10.760870</td>\n",
       "    </tr>\n",
       "    <tr>\n",
       "      <th>8</th>\n",
       "      <td>312.631579</td>\n",
       "      <td>12.717391</td>\n",
       "    </tr>\n",
       "    <tr>\n",
       "      <th>9</th>\n",
       "      <td>312.631579</td>\n",
       "      <td>10.760870</td>\n",
       "    </tr>\n",
       "  </tbody>\n",
       "</table>\n",
       "<p>10158 rows × 2 columns</p>\n",
       "</div>"
      ],
      "text/plain": [
       "           longitude   latitude\n",
       "traj obs                       \n",
       "0    0    337.894737  16.630435\n",
       "     1    337.894737  14.673913\n",
       "     2    331.578947  14.673913\n",
       "     3    325.263158  14.673913\n",
       "     4    325.263158  16.630435\n",
       "...              ...        ...\n",
       "999  5    318.947368  12.717391\n",
       "     6    318.947368  10.760870\n",
       "     7    312.631579  10.760870\n",
       "     8    312.631579  12.717391\n",
       "     9    312.631579  10.760870\n",
       "\n",
       "[10158 rows x 2 columns]"
      ]
     },
     "metadata": {},
     "output_type": "display_data"
    }
   ],
   "source": [
    "raw_data_roundtrip = grid_series_to_geo_df(\n",
    "    series_sequences_to_multi_index_series(\n",
    "        fill_in_segments(\n",
    "            remove_subsequent_identical_elements(\n",
    "                multi_index_series_to_series_sequences(\n",
    "                    geo_df_to_grid_series(\n",
    "                        raw_data,\n",
    "                        lon_num=lon_num,\n",
    "                        lat_num=lat_num,\n",
    "                    )\n",
    "                )\n",
    "            )\n",
    "        )\n",
    "    ),\n",
    "    lon_num=lon_num,\n",
    "    lat_num=lat_num,\n",
    ")\n",
    "\n",
    "display(raw_data_roundtrip)"
   ]
  },
  {
   "cell_type": "code",
   "execution_count": 11,
   "id": "7fb65951-41b4-4867-9373-3b5005e6dce8",
   "metadata": {},
   "outputs": [
    {
     "name": "stderr",
     "output_type": "stream",
     "text": [
      "ERROR 1: PROJ: proj_create_from_database: Open of /opt/conda/share/proj failed\n"
     ]
    }
   ],
   "source": [
    "from matplotlib import pyplot as plt\n",
    "import cartopy"
   ]
  },
  {
   "cell_type": "code",
   "execution_count": 12,
   "id": "ca94975b-2b18-45d3-8191-6b1c9c1138c2",
   "metadata": {},
   "outputs": [
    {
     "name": "stdout",
     "output_type": "stream",
     "text": [
      "CPU times: user 18.4 s, sys: 168 ms, total: 18.6 s\n",
      "Wall time: 18.4 s\n"
     ]
    },
    {
     "data": {
      "image/png": "[encoded data removed]",
      "text/plain": [
       "<Figure size 864x864 with 1 Axes>"
      ]
     },
     "metadata": {
      "needs_background": "light"
     },
     "output_type": "display_data"
    }
   ],
   "source": [
    "%%time\n",
    "\n",
    "fig, ax = plt.subplots(\n",
    "    1, 1,\n",
    "    figsize=(12, 12),\n",
    "    subplot_kw={\"projection\": cartopy.crs.PlateCarree()},\n",
    ")\n",
    "\n",
    "(\n",
    "    raw_data\n",
    "    .groupby(\"traj\")\n",
    "    .plot.line(\n",
    "        x=\"longitude\", y=\"latitude\",\n",
    "        ax=ax, legend=False,\n",
    "        alpha=0.1, color=\"black\",\n",
    "        transform=cartopy.crs.PlateCarree()\n",
    "    )\n",
    ")\n",
    "\n",
    "(\n",
    "    raw_data_roundtrip\n",
    "    .groupby(\"traj\")\n",
    "    .plot.line(\n",
    "        x=\"longitude\", y=\"latitude\",\n",
    "        ax=ax, legend=False,\n",
    "        alpha=0.1, color=\"red\",\n",
    "        transform=cartopy.crs.PlateCarree()\n",
    "    )\n",
    ")\n",
    "\n",
    "ax.gridlines()    \n",
    "_ = ax.coastlines();"
   ]
  },
  {
   "cell_type": "code",
   "execution_count": 13,
   "id": "2eebb898-bc0f-4b3c-ad17-36c316058a8f",
   "metadata": {},
   "outputs": [
    {
     "data": {
      "text/plain": [
       "traj\n",
       "0      [(53, 54), (53, 53), (52, 53), (51, 53), (51, ...\n",
       "1      [(53, 54), (53, 53), (52, 53), (52, 54), (51, ...\n",
       "2      [(53, 54), (53, 53), (52, 53), (51, 53), (51, ...\n",
       "3      [(53, 54), (53, 53), (52, 53), (51, 53), (51, ...\n",
       "4      [(53, 54), (53, 53), (52, 53), (52, 52), (52, ...\n",
       "                             ...                        \n",
       "995    [(53, 54), (53, 53), (52, 53), (51, 53), (51, ...\n",
       "996    [(53, 54), (53, 53), (52, 53), (51, 53), (51, ...\n",
       "997    [(53, 54), (53, 53), (52, 53), (51, 53), (51, ...\n",
       "998    [(53, 54), (53, 53), (52, 53), (51, 53), (51, ...\n",
       "999    [(53, 54), (53, 53), (52, 53), (51, 53), (51, ...\n",
       "Name: grid_index_lon_lat, Length: 1000, dtype: object"
      ]
     },
     "metadata": {},
     "output_type": "display_data"
    }
   ],
   "source": [
    "sequential_data = fill_in_segments(\n",
    "    remove_subsequent_identical_elements(\n",
    "        multi_index_series_to_series_sequences(\n",
    "            geo_df_to_grid_series(\n",
    "                raw_data,\n",
    "                lon_num=lon_num,\n",
    "                lat_num=lat_num,\n",
    "            )\n",
    "        )\n",
    "    )\n",
    ")\n",
    "\n",
    "display(sequential_data)"
   ]
  },
  {
   "cell_type": "code",
   "execution_count": 14,
   "id": "9468aa16-a5e3-4f48-a999-65c0a6e251cc",
   "metadata": {},
   "outputs": [
    {
     "data": {
      "image/png": "[encoded data removed]",
      "text/plain": [
       "<Figure size 432x288 with 1 Axes>"
      ]
     },
     "metadata": {
      "needs_background": "light"
     },
     "output_type": "display_data"
    }
   ],
   "source": [
    "sequential_data.apply(len).plot.hist(bins=5);"
   ]
  },
  {
   "cell_type": "code",
   "execution_count": 15,
   "id": "b56e2015-e579-4da7-a5d5-6ef1019e0d72",
   "metadata": {},
   "outputs": [],
   "source": [
    "from lagrangian_trajectory_clustering.metrics import levenshtein_numpy_numba, lcs_numpy_numba\n",
    "from lagrangian_trajectory_clustering.metrics_wrapped import wrapped_metric"
   ]
  },
  {
   "cell_type": "code",
   "execution_count": 16,
   "id": "41fe3ea9-2548-477f-85ab-dcbd64e618b6",
   "metadata": {},
   "outputs": [],
   "source": [
    "import numpy as np"
   ]
  },
  {
   "cell_type": "code",
   "execution_count": 17,
   "id": "eb68fa89-5455-4864-8b01-701e84b1013e",
   "metadata": {},
   "outputs": [],
   "source": [
    "lcs_dist = lambda s0, s1: min(len(s0), len(s1)) / lcs_numpy_numba(s0, s1) - 1"
   ]
  },
  {
   "cell_type": "code",
   "execution_count": 18,
   "id": "2979126b-fb87-4c2b-bbb9-fb9161738d6c",
   "metadata": {},
   "outputs": [],
   "source": [
    "from sklearn.cluster import OPTICS\n",
    "import pandas as pd"
   ]
  },
  {
   "cell_type": "code",
   "execution_count": 19,
   "id": "1b44ade6-95f5-4ad8-9c4d-5433f77743e1",
   "metadata": {},
   "outputs": [],
   "source": [
    "metric = wrapped_metric(\n",
    "    metric_function=lcs_dist,\n",
    "    sequences_mapping=sequential_data,\n",
    "    normalize=False,\n",
    ")"
   ]
  },
  {
   "cell_type": "code",
   "execution_count": null,
   "id": "06582987-e789-410c-9dad-5c26229e07d8",
   "metadata": {},
   "outputs": [],
   "source": [
    "%%time\n",
    "\n",
    "clust = OPTICS(\n",
    "    metric=metric,\n",
    ")\n",
    "\n",
    "cluster_id = pd.Series(\n",
    "    clust.fit_predict(np.arange(num_traj).reshape(-1, 1)),\n",
    "    index=sequential_data.index,\n",
    "    name=\"cluster_id\"\n",
    ")\n",
    "\n",
    "cluster_id.plot()"
   ]
  },
  {
   "cell_type": "code",
   "execution_count": null,
   "id": "00cbb7d5-f40d-4f7c-93bd-8334ce7defcc",
   "metadata": {},
   "outputs": [],
   "source": [
    "cluster_id.plot.hist()"
   ]
  },
  {
   "cell_type": "code",
   "execution_count": null,
   "id": "23096a87-eba8-4e27-8f07-5081c09b9e40",
   "metadata": {},
   "outputs": [],
   "source": [
    "# _data = raw_data_roundtrip.join(cluster_id)\n",
    "_data = raw_data.join(cluster_id)"
   ]
  },
  {
   "cell_type": "code",
   "execution_count": null,
   "id": "03239680-47f3-4e0b-825d-f0cd9be6c995",
   "metadata": {},
   "outputs": [],
   "source": [
    "fig, ax = plt.subplots(\n",
    "    len(cluster_id.unique()), 1,\n",
    "    figsize=(7, 2.5*len(cluster_id.unique())),\n",
    "    subplot_kw={\"projection\": cartopy.crs.PlateCarree()},\n",
    "    sharex=True, sharey=True,\n",
    ")\n",
    "\n",
    "for _ax, cid in zip(ax.flatten(), sorted(cluster_id.unique())):\n",
    "    (\n",
    "        _data\n",
    "        .groupby(\"traj\")\n",
    "        .plot.line(\n",
    "            x=\"longitude\", y=\"latitude\",\n",
    "            ax=_ax, legend=False,\n",
    "            alpha=1, color=\"black\",\n",
    "            transform=cartopy.crs.PlateCarree()\n",
    "        )\n",
    "    )\n",
    "    \n",
    "    (\n",
    "        _data[_data[\"cluster_id\"] == cid]\n",
    "        .groupby(\"traj\")\n",
    "        .plot.line(\n",
    "            x=\"longitude\", y=\"latitude\",\n",
    "            ax=_ax, legend=False,\n",
    "            alpha=1, color=\"orange\",\n",
    "            transform=cartopy.crs.PlateCarree()\n",
    "        )\n",
    "    )\n",
    "\n",
    "    _ax.gridlines()\n",
    "    _ax.coastlines()\n",
    "    _ax.set_yticks([])\n",
    "    _ax.set_ylabel(\"\");\n",
    "    \n",
    "fig.tight_layout();"
   ]
  },
  {
   "cell_type": "code",
   "execution_count": null,
   "id": "3d80ae8c-caec-43f9-bb83-0e099e956ca4",
   "metadata": {},
   "outputs": [],
   "source": [
    "pd.Series(clust.reachability_[clust.ordering_]).plot()"
   ]
  }
 ],
 "metadata": {
  "kernelspec": {
   "display_name": "Python 3 (ipykernel)",
   "language": "python",
   "name": "python3"
  },
  "language_info": {
   "codemirror_mode": {
    "name": "ipython",
    "version": 3
   },
   "file_extension": ".py",
   "mimetype": "text/x-python",
   "name": "python",
   "nbconvert_exporter": "python",
   "pygments_lexer": "ipython3",
   "version": "3.10.4"
  }
 },
 "nbformat": 4,
 "nbformat_minor": 5
}
