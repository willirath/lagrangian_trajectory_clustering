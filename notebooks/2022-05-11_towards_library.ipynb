{
 "cells": [
  {
   "cell_type": "markdown",
   "id": "5e9d3855-5e4f-43f1-87ad-ceaea15e8a2c",
   "metadata": {},
   "source": [
    "# Multi step trajectory clustering"
   ]
  },
  {
   "cell_type": "markdown",
   "id": "cbee971d-7ddc-4a55-a462-3a66d2adbfca",
   "metadata": {},
   "source": [
    "## Parameters"
   ]
  },
  {
   "cell_type": "code",
   "execution_count": 1,
   "id": "15a70881-1c97-4cf7-80c6-17d2b160fd84",
   "metadata": {},
   "outputs": [],
   "source": [
    "num_traj = 100\n",
    "random_trajs = False\n",
    "random_seed = 1234\n",
    "\n",
    "data_set = \"labsea\"  # \"medsea\" or \"labsea\""
   ]
  },
  {
   "cell_type": "markdown",
   "id": "0adeac04-992a-4096-8201-2a2af91df33a",
   "metadata": {},
   "source": [
    "## Imports"
   ]
  },
  {
   "cell_type": "code",
   "execution_count": 2,
   "id": "eb8d7425-6d82-428a-8160-b6c58ea479b4",
   "metadata": {},
   "outputs": [],
   "source": [
    "from lagtrajclust.data_loading import subset_trajectories, load_labsea_trajectories, load_medsea_trajectories"
   ]
  },
  {
   "cell_type": "code",
   "execution_count": 3,
   "id": "d3a9aa1a-b9f0-442c-888a-2111a39da243",
   "metadata": {},
   "outputs": [],
   "source": [
    "import pandas as pd\n",
    "from matplotlib import pyplot as plt\n",
    "import numpy as np"
   ]
  },
  {
   "cell_type": "code",
   "execution_count": 4,
   "id": "4e9e7c62-b4b3-4818-ba7c-397aacc84e54",
   "metadata": {},
   "outputs": [
    {
     "name": "stderr",
     "output_type": "stream",
     "text": [
      "ERROR 1: PROJ: proj_create_from_database: Open of /opt/conda/share/proj failed\n"
     ]
    }
   ],
   "source": [
    "from lagtrajclust.h3_trafo import (\n",
    "    add_max_res_h3_column,\n",
    "    h3_series_to_h3_parent,\n",
    ")\n",
    "#     df_to_h3,\n",
    "#     h3_series_to_h3_parent,\n",
    "#     h3_series_to_series_of_h3_sequences,\n",
    "#     remove_subsequent_identical_elements,\n",
    "# )\n",
    "\n",
    "from lagtrajclust.visualisation import polygonise_h3s\n",
    "\n",
    "from lagtrajclust.clustering import (\n",
    "    dbscan_with_edist_metric,\n",
    "    optics_with_edist_metric,\n",
    ")\n",
    "    "
   ]
  },
  {
   "cell_type": "code",
   "execution_count": 5,
   "id": "096027fd-0c79-46f0-a8b3-9e5c89ff2cee",
   "metadata": {},
   "outputs": [],
   "source": [
    "load_functions = {\n",
    "    \"medsea\": load_medsea_trajectories,\n",
    "    \"labsea\": load_labsea_trajectories, \n",
    "}"
   ]
  },
  {
   "cell_type": "code",
   "execution_count": 6,
   "id": "73a9092f-5f68-4d39-a568-29dd88c05bd9",
   "metadata": {},
   "outputs": [],
   "source": [
    "df = subset_trajectories(\n",
    "    df=load_functions[data_set](),\n",
    "    num_traj=num_traj,\n",
    "    use_random=random_trajs,\n",
    "    random_seed=random_seed,\n",
    ")"
   ]
  },
  {
   "cell_type": "code",
   "execution_count": 7,
   "id": "da82f221-63bc-41de-b814-076bc3bdc568",
   "metadata": {},
   "outputs": [
    {
     "data": {
      "text/plain": [
       "100"
      ]
     },
     "execution_count": 7,
     "metadata": {},
     "output_type": "execute_result"
    }
   ],
   "source": [
    "len(df.index.get_level_values(0).unique())"
   ]
  },
  {
   "cell_type": "code",
   "execution_count": 8,
   "id": "2eb71a3e-1634-4f59-b124-c0af6fd27903",
   "metadata": {},
   "outputs": [
    {
     "data": {
      "text/html": [
       "<div>\n",
       "<style scoped>\n",
       "    .dataframe tbody tr th:only-of-type {\n",
       "        vertical-align: middle;\n",
       "    }\n",
       "\n",
       "    .dataframe tbody tr th {\n",
       "        vertical-align: top;\n",
       "    }\n",
       "\n",
       "    .dataframe thead th {\n",
       "        text-align: right;\n",
       "    }\n",
       "</style>\n",
       "<table border=\"1\" class=\"dataframe\">\n",
       "  <thead>\n",
       "    <tr style=\"text-align: right;\">\n",
       "      <th></th>\n",
       "      <th></th>\n",
       "      <th>latitude</th>\n",
       "      <th>longitude</th>\n",
       "      <th>time</th>\n",
       "      <th>h3r15</th>\n",
       "    </tr>\n",
       "    <tr>\n",
       "      <th>traj</th>\n",
       "      <th>obs</th>\n",
       "      <th></th>\n",
       "      <th></th>\n",
       "      <th></th>\n",
       "      <th></th>\n",
       "    </tr>\n",
       "  </thead>\n",
       "  <tbody>\n",
       "    <tr>\n",
       "      <th rowspan=\"5\" valign=\"top\">0</th>\n",
       "      <th>0</th>\n",
       "      <td>60.066532</td>\n",
       "      <td>-42.860935</td>\n",
       "      <td>1990-01-03 12:00:00</td>\n",
       "      <td>8f1b2172002eade</td>\n",
       "    </tr>\n",
       "    <tr>\n",
       "      <th>1</th>\n",
       "      <td>62.243374</td>\n",
       "      <td>-41.847748</td>\n",
       "      <td>1989-12-29 12:00:00</td>\n",
       "      <td>8f065a4d164899c</td>\n",
       "    </tr>\n",
       "    <tr>\n",
       "      <th>2</th>\n",
       "      <td>64.423485</td>\n",
       "      <td>-39.589207</td>\n",
       "      <td>1989-12-24 12:00:00</td>\n",
       "      <td>8f06522d6252c05</td>\n",
       "    </tr>\n",
       "    <tr>\n",
       "      <th>3</th>\n",
       "      <td>65.065970</td>\n",
       "      <td>-37.968430</td>\n",
       "      <td>1989-12-19 12:00:00</td>\n",
       "      <td>8f065298ed11405</td>\n",
       "    </tr>\n",
       "    <tr>\n",
       "      <th>4</th>\n",
       "      <td>64.880410</td>\n",
       "      <td>-36.790250</td>\n",
       "      <td>1989-12-14 12:00:00</td>\n",
       "      <td>8f065634acc5780</td>\n",
       "    </tr>\n",
       "    <tr>\n",
       "      <th>...</th>\n",
       "      <th>...</th>\n",
       "      <td>...</td>\n",
       "      <td>...</td>\n",
       "      <td>...</td>\n",
       "      <td>...</td>\n",
       "    </tr>\n",
       "    <tr>\n",
       "      <th rowspan=\"5\" valign=\"top\">99</th>\n",
       "      <th>726</th>\n",
       "      <td>28.391970</td>\n",
       "      <td>-79.536030</td>\n",
       "      <td>1980-01-26 12:00:00</td>\n",
       "      <td>8f44aa28e0d299c</td>\n",
       "    </tr>\n",
       "    <tr>\n",
       "      <th>727</th>\n",
       "      <td>25.497938</td>\n",
       "      <td>-79.517180</td>\n",
       "      <td>1980-01-21 12:00:00</td>\n",
       "      <td>8f44a0206313862</td>\n",
       "    </tr>\n",
       "    <tr>\n",
       "      <th>728</th>\n",
       "      <td>24.046438</td>\n",
       "      <td>-80.935980</td>\n",
       "      <td>1980-01-16 12:00:00</td>\n",
       "      <td>8f458b32e258909</td>\n",
       "    </tr>\n",
       "    <tr>\n",
       "      <th>729</th>\n",
       "      <td>24.157240</td>\n",
       "      <td>-83.564740</td>\n",
       "      <td>1980-01-11 12:00:00</td>\n",
       "      <td>8f44333b6c58a89</td>\n",
       "    </tr>\n",
       "    <tr>\n",
       "      <th>730</th>\n",
       "      <td>23.477758</td>\n",
       "      <td>-85.613320</td>\n",
       "      <td>1980-01-06 12:00:00</td>\n",
       "      <td>8f44220c27a4a51</td>\n",
       "    </tr>\n",
       "  </tbody>\n",
       "</table>\n",
       "<p>73100 rows × 4 columns</p>\n",
       "</div>"
      ],
      "text/plain": [
       "           latitude  longitude                 time            h3r15\n",
       "traj obs                                                            \n",
       "0    0    60.066532 -42.860935  1990-01-03 12:00:00  8f1b2172002eade\n",
       "     1    62.243374 -41.847748  1989-12-29 12:00:00  8f065a4d164899c\n",
       "     2    64.423485 -39.589207  1989-12-24 12:00:00  8f06522d6252c05\n",
       "     3    65.065970 -37.968430  1989-12-19 12:00:00  8f065298ed11405\n",
       "     4    64.880410 -36.790250  1989-12-14 12:00:00  8f065634acc5780\n",
       "...             ...        ...                  ...              ...\n",
       "99   726  28.391970 -79.536030  1980-01-26 12:00:00  8f44aa28e0d299c\n",
       "     727  25.497938 -79.517180  1980-01-21 12:00:00  8f44a0206313862\n",
       "     728  24.046438 -80.935980  1980-01-16 12:00:00  8f458b32e258909\n",
       "     729  24.157240 -83.564740  1980-01-11 12:00:00  8f44333b6c58a89\n",
       "     730  23.477758 -85.613320  1980-01-06 12:00:00  8f44220c27a4a51\n",
       "\n",
       "[73100 rows x 4 columns]"
      ]
     },
     "metadata": {},
     "output_type": "display_data"
    },
    {
     "name": "stdout",
     "output_type": "stream",
     "text": [
      "CPU times: user 1.24 s, sys: 8.04 ms, total: 1.25 s\n",
      "Wall time: 1.25 s\n"
     ]
    }
   ],
   "source": [
    "%%time\n",
    "\n",
    "df = add_max_res_h3_column(df)\n",
    "\n",
    "# have a look\n",
    "display(df)"
   ]
  },
  {
   "cell_type": "code",
   "execution_count": 9,
   "id": "bc4ff154-fa92-4fa9-bd2d-cc21c274dca0",
   "metadata": {},
   "outputs": [
    {
     "data": {
      "image/png": "[encoded data removed]",
      "text/plain": [
       "<Figure size 432x288 with 1 Axes>"
      ]
     },
     "metadata": {
      "needs_background": "light"
     },
     "output_type": "display_data"
    }
   ],
   "source": [
    "df.plot.scatter(x=\"longitude\", y=\"latitude\", alpha=0.05, s=1);"
   ]
  },
  {
   "cell_type": "code",
   "execution_count": 10,
   "id": "c1114c03-a9aa-4afb-b570-1d919cc8928f",
   "metadata": {},
   "outputs": [],
   "source": [
    "from lagtrajclust.visualisation import polygonise_h3s"
   ]
  },
  {
   "cell_type": "code",
   "execution_count": 11,
   "id": "44c746f6-7389-4979-8d08-74d27c9b65e8",
   "metadata": {},
   "outputs": [
    {
     "data": {
      "text/plain": [
       "count    2.829800e+04\n",
       "mean     3.437498e+04\n",
       "std      8.332633e+04\n",
       "min      0.000000e+00\n",
       "25%      7.208340e+03\n",
       "50%      1.952512e+04\n",
       "75%      4.203148e+04\n",
       "max      4.283019e+06\n",
       "Name: latitude, dtype: float64"
      ]
     },
     "execution_count": 11,
     "metadata": {},
     "output_type": "execute_result"
    }
   ],
   "source": [
    "abs(df[\"latitude\"].diff() * 111e3).describe()"
   ]
  },
  {
   "cell_type": "code",
   "execution_count": 16,
   "id": "3033489c-7db0-49f4-948e-78c76d5616cc",
   "metadata": {},
   "outputs": [
    {
     "data": {
      "text/plain": [
       "<AxesSubplot:>"
      ]
     },
     "execution_count": 16,
     "metadata": {},
     "output_type": "execute_result"
    },
    {
     "data": {
      "image/png": "[encoded data removed]",
      "text/plain": [
       "<Figure size 432x288 with 1 Axes>"
      ]
     },
     "metadata": {
      "needs_background": "light"
     },
     "output_type": "display_data"
    }
   ],
   "source": [
    "fig, ax = plt.subplots(1, 1)\n",
    "polygonise_h3s(h3_series_to_h3_parent(\n",
    "    df.dropna().reset_index()[\"h3r15\"],\n",
    "    resolution=5,\n",
    ")).iloc[0:100].reset_index()[0].plot(ax=ax, edgecolor='red', facecolor=\"none\")"
   ]
  },
  {
   "cell_type": "markdown",
   "id": "70a0714e-1ed6-4b3d-a903-df7bd993b31f",
   "metadata": {},
   "source": [
    "## Coarsen daadd_max_res_h3_columnnd transform\n",
    "\n",
    "We coarsen (from the highest-resolution data), and transform to a series of lists of h3s without subsequent dupes."
   ]
  },
  {
   "cell_type": "code",
   "execution_count": 13,
   "id": "592304d6-acba-45a4-8e2e-70d73141a6c2",
   "metadata": {},
   "outputs": [],
   "source": [
    "from lagtrajclust.h3_trafo import find_max_needed_h3_resolution"
   ]
  },
  {
   "cell_type": "code",
   "execution_count": 14,
   "id": "923f2a26-3bbf-45cc-9969-1b2d800cfa69",
   "metadata": {},
   "outputs": [
    {
     "data": {
      "text/plain": [
       "5"
      ]
     },
     "execution_count": 14,
     "metadata": {},
     "output_type": "execute_result"
    }
   ],
   "source": [
    "find_max_needed_h3_resolution(df)"
   ]
  },
  {
   "cell_type": "code",
   "execution_count": 15,
   "id": "1b0198c5-d9f7-411b-829e-697f4b7744aa",
   "metadata": {},
   "outputs": [],
   "source": [
    "h3_working_resolution = 0"
   ]
  },
  {
   "cell_type": "code",
   "execution_count": 15,
   "id": "257f0a3c-dab2-451d-a90d-84e6b44465ae",
   "metadata": {},
   "outputs": [
    {
     "ename": "NameError",
     "evalue": "name 'h3_working_resolution' is not defined",
     "output_type": "error",
     "traceback": [
      "\u001b[0;31m---------------------------------------------------------------------------\u001b[0m",
      "\u001b[0;31mNameError\u001b[0m                                 Traceback (most recent call last)",
      "File \u001b[0;32m<timed exec>:1\u001b[0m, in \u001b[0;36m<module>\u001b[0;34m\u001b[0m\n",
      "\u001b[0;31mNameError\u001b[0m: name 'h3_working_resolution' is not defined"
     ]
    }
   ],
   "source": [
    "%%time\n",
    "\n",
    "h3_series = h3_series_to_h3_parent(df[\"h3r15\"], resolution=h3_working_resolution)\n",
    "\n",
    "h3_sequences = h3_series_to_series_of_h3_sequences(h3_series)\n",
    "\n",
    "h3_sequences = remove_subsequent_identical_elements(h3_sequences)"
   ]
  },
  {
   "cell_type": "code",
   "execution_count": null,
   "id": "a356f9b7-0d62-4c7e-bc2f-540835a00309",
   "metadata": {},
   "outputs": [],
   "source": [
    "h3_series"
   ]
  },
  {
   "cell_type": "code",
   "execution_count": null,
   "id": "ee7e7cb9-ec4b-4146-bf09-13b0f48ed894",
   "metadata": {},
   "outputs": [],
   "source": [
    "display(h3_sequences)"
   ]
  },
  {
   "cell_type": "markdown",
   "id": "6963ae65-a372-4e2e-8e2f-1a9da16f7d8b",
   "metadata": {},
   "source": [
    "Check length distribution"
   ]
  },
  {
   "cell_type": "code",
   "execution_count": null,
   "id": "922b0dc1-29b9-4ef3-abb4-6fbd09d34aba",
   "metadata": {},
   "outputs": [],
   "source": [
    "h3_lengths = h3_sequences.apply(len)\n",
    "bin_number = int(np.log(5 * h3_lengths.max()))\n",
    "h3_lengths.plot.hist(bins=bin_number);"
   ]
  },
  {
   "cell_type": "code",
   "execution_count": null,
   "id": "9ccc05d2-6173-4007-ac2c-9cfc842f8ad2",
   "metadata": {},
   "outputs": [],
   "source": [
    "h3_num_unique = h3_sequences.apply(set).apply(len)\n",
    "bin_number = int(np.log(5 * h3_num_unique.max()))\n",
    "h3_num_unique.plot.hist(bins=bin_number);"
   ]
  },
  {
   "cell_type": "markdown",
   "id": "992a28d8-a3a5-4898-9af3-267e546bddc3",
   "metadata": {},
   "source": [
    "## Do a clustering"
   ]
  },
  {
   "cell_type": "code",
   "execution_count": null,
   "id": "408e62f9-0ed0-4a4c-9e28-000704cfc477",
   "metadata": {},
   "outputs": [],
   "source": [
    "%%time\n",
    "\n",
    "# cluster_ids = dbscan_with_edist_metric(h3_sequences, eps=0.3)\n",
    "cluster_ids = optics_with_edist_metric(h3_sequences, max_eps=0.4, normalize=True)"
   ]
  },
  {
   "cell_type": "code",
   "execution_count": null,
   "id": "cf8b1d98-71d0-436d-821b-3c4d51ea5aaf",
   "metadata": {},
   "outputs": [],
   "source": [
    "cluster_ids.plot()"
   ]
  },
  {
   "cell_type": "code",
   "execution_count": null,
   "id": "c3e7909d-e59a-4671-add1-3a86c709120b",
   "metadata": {},
   "outputs": [],
   "source": [
    "cluster_ids.plot.hist(bins=len(cluster_ids.unique()));"
   ]
  },
  {
   "cell_type": "code",
   "execution_count": null,
   "id": "0954f0eb-d48b-4e16-bbce-381d388d69a0",
   "metadata": {},
   "outputs": [],
   "source": [
    "df"
   ]
  },
  {
   "cell_type": "code",
   "execution_count": null,
   "id": "52a28f9d-5f81-4e92-a1d0-3da5a5ac91a0",
   "metadata": {},
   "outputs": [],
   "source": [
    "from functools import reduce\n",
    "from operator import add"
   ]
  },
  {
   "cell_type": "code",
   "execution_count": null,
   "id": "3ef1622c-7346-473f-9a0c-e21e99108bd2",
   "metadata": {},
   "outputs": [],
   "source": [
    "_df = df.join(cluster_ids.rename(\"cluster_ids\"))\n",
    "_df"
   ]
  },
  {
   "cell_type": "code",
   "execution_count": null,
   "id": "83adf9f0-2d05-465b-9888-8be820b9da16",
   "metadata": {},
   "outputs": [],
   "source": [
    "ax = df.join(cluster_ids.rename(\"cluster_ids\")).plot.scatter(\n",
    "    x=\"longitude\", y=\"latitude\", \n",
    "    c=\"cluster_ids\", cmap=\"tab20c\",\n",
    "    s=1, alpha=0.8,\n",
    "    figsize=(16, 12),\n",
    ");\n",
    "polygonise_h3s(reduce(add, h3_sequences)).plot(ax=ax, edgecolor='red', facecolor=\"none\");"
   ]
  },
  {
   "cell_type": "code",
   "execution_count": null,
   "id": "7c47500d-aca3-41ff-b84d-5abc83724f33",
   "metadata": {},
   "outputs": [],
   "source": [
    "from math import ceil, floor"
   ]
  },
  {
   "cell_type": "code",
   "execution_count": null,
   "id": "0473a916-0f78-494a-8e66-4b3b40abda01",
   "metadata": {},
   "outputs": [],
   "source": [
    "num_clusters = len(cluster_ids.unique())\n",
    "cols, rows = int(num_clusters ** 0.5), num_clusters // floor(num_clusters ** 0.5)\n",
    "\n",
    "fig, ax = plt.subplots(cols, rows, figsize=(8 * cols, 4 * rows))\n",
    "for cid, _ax in zip(sorted(cluster_ids.unique()), ax.flatten()):\n",
    "    _df[_df[\"cluster_ids\"] == cid].reset_index().plot.scatter(\n",
    "        x=\"longitude\", y=\"latitude\", \n",
    "        c=\"traj\", cmap=\"viridis\",\n",
    "        s=1, alpha=0.6, ax=_ax,\n",
    "        colorbar=False,        \n",
    "    );\n",
    "    _ax.set_title(f\"cluster {cid}\")\n",
    "    polygonise_h3s(list(set(reduce(add, h3_sequences)))).plot(ax=_ax, edgecolor='gray', facecolor=\"none\");\n",
    "    polygonise_h3s(list(set(reduce(add, h3_sequences[cluster_ids == cid])))).plot(ax=_ax, edgecolor='red', facecolor=\"none\");"
   ]
  },
  {
   "cell_type": "code",
   "execution_count": null,
   "id": "223dae02-71b9-4a2a-a4a4-d4507352453e",
   "metadata": {},
   "outputs": [],
   "source": [
    "import numpy as np\n",
    "import matplotlib.pyplot as plt\n",
    "from nltk.metrics.distance import edit_distance\n",
    "from scipy.cluster.hierarchy import linkage\n",
    "from scipy.cluster.hierarchy import dendrogram\n",
    "\n",
    "labels = [\n",
    "    'Tacos',\n",
    "    'Tacoes',\n",
    "    'Tomatos',\n",
    "    'Tomatoes',\n",
    "    'Beef',\n",
    "    'Beer',\n",
    "    'Steak',\n",
    "    'Pig',\n",
    "    'Twig'\n",
    "]\n",
    "\n",
    "def d(coord):\n",
    "    i, j = coord\n",
    "    return edit_distance(labels[i], labels[j])\n",
    "\n",
    "coords = np.triu_indices(len(labels), 1)\n",
    "result = np.apply_along_axis(d, 0, coords)\n",
    "clust = linkage(result)\n",
    "\n",
    "dend = dendrogram(clust, labels=labels, leaf_font_size=8)\n",
    "plt.show()"
   ]
  },
  {
   "cell_type": "code",
   "execution_count": null,
   "id": "33a882c9-dbc4-4f12-abdd-0663d592c36e",
   "metadata": {},
   "outputs": [],
   "source": [
    "def d(coord):\n",
    "    i, j = coord\n",
    "    return edit_distance(h3_sequences.iloc[labels[i]], h3_sequences.iloc[labels[j]])"
   ]
  },
  {
   "cell_type": "code",
   "execution_count": null,
   "id": "95bdce51-6b6e-43c9-a91e-610c253a001e",
   "metadata": {},
   "outputs": [],
   "source": [
    "%%time\n",
    "\n",
    "labels = np.random.choice(np.arange(len(h3_sequences)), size=(1_000, ), replace=False)"
   ]
  },
  {
   "cell_type": "code",
   "execution_count": null,
   "id": "0e51b6f2-43fa-4543-a854-8b93605e84a1",
   "metadata": {},
   "outputs": [],
   "source": [
    "%%time\n",
    "\n",
    "coords = np.triu_indices(len(labels), 1)"
   ]
  },
  {
   "cell_type": "code",
   "execution_count": null,
   "id": "a5488018-a637-47d2-8807-053ce6d94f37",
   "metadata": {},
   "outputs": [],
   "source": [
    "%%time\n",
    "\n",
    "result = np.apply_along_axis(d, 0, coords)"
   ]
  },
  {
   "cell_type": "code",
   "execution_count": null,
   "id": "c8c75e9a-66d6-4a67-a5c6-82bc1416fb80",
   "metadata": {},
   "outputs": [],
   "source": [
    "%%time\n",
    "\n",
    "clust = linkage(result)"
   ]
  },
  {
   "cell_type": "code",
   "execution_count": null,
   "id": "e0f2e2e1-d565-491d-b2ec-8d6bbc4b8ec1",
   "metadata": {},
   "outputs": [],
   "source": [
    "clust.shape"
   ]
  },
  {
   "cell_type": "code",
   "execution_count": null,
   "id": "ed923d97-6a13-4f0b-b53c-f0adbddaaa59",
   "metadata": {},
   "outputs": [],
   "source": [
    "dendrogram?"
   ]
  },
  {
   "cell_type": "code",
   "execution_count": null,
   "id": "58b692d6-a216-4c51-9830-52c399278e0c",
   "metadata": {},
   "outputs": [],
   "source": [
    "fig, ax = plt.subplots(1, 1, figsize=(20, 7))\n",
    "dend = dendrogram(clust, labels=labels, leaf_font_size=8, ax=ax, p=10, truncate_mode='lastp')\n",
    "plt.show()"
   ]
  },
  {
   "cell_type": "code",
   "execution_count": null,
   "id": "8cf67466-34c3-438e-b8ba-41227f67c376",
   "metadata": {},
   "outputs": [],
   "source": [
    "ind = 323; ax = df.loc[ind].plot(x=\"longitude\", y=\"latitude\", label=ind)\n",
    "ind = 92; df.loc[ind].plot(x=\"longitude\", y=\"latitude\", label=ind, ax=ax)\n",
    "ind = 143; df.loc[ind].plot(x=\"longitude\", y=\"latitude\", label=ind, ax=ax)\n",
    "# ind = 729; df.loc[ind].plot(x=\"longitude\", y=\"latitude\", label=ind, ax=ax)"
   ]
  },
  {
   "cell_type": "code",
   "execution_count": null,
   "id": "652aab68-e927-4bef-9388-b66d95176eb0",
   "metadata": {},
   "outputs": [],
   "source": []
  }
 ],
 "metadata": {
  "kernelspec": {
   "display_name": "Python 3 (ipykernel)",
   "language": "python",
   "name": "python3"
  },
  "language_info": {
   "codemirror_mode": {
    "name": "ipython",
    "version": 3
   },
   "file_extension": ".py",
   "mimetype": "text/x-python",
   "name": "python",
   "nbconvert_exporter": "python",
   "pygments_lexer": "ipython3",
   "version": "3.9.12"
  }
 },
 "nbformat": 4,
 "nbformat_minor": 5
}
